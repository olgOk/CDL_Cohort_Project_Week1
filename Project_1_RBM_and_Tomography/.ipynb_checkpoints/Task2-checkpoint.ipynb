{
 "cells": [
  {
   "cell_type": "markdown",
   "metadata": {},
   "source": [
    "# Task #2\n",
    "\n",
    "A template code for training an RBM on Rydberg atom data (the full dataset) is provided below. For the first part of this task (determining the minimum number of hidden units), start with 1 hidden units. \n",
    "\n",
    "Imports and loadining in data:"
   ]
  },
  {
   "cell_type": "code",
   "execution_count": 1,
   "metadata": {},
   "outputs": [],
   "source": [
    "import numpy as np\n",
    "import torch\n",
    "from RBM_helper import RBM\n",
    "from tqdm import tqdm\n",
    "import matplotlib.pyplot as plt\n",
    "import Rydberg_energy_calculator\n",
    "\n",
    "training_data = torch.from_numpy(np.loadtxt(\"Rydberg_data.txt\"))"
   ]
  },
  {
   "cell_type": "markdown",
   "metadata": {},
   "source": [
    "Define the RBM:"
   ]
  },
  {
   "cell_type": "code",
   "execution_count": 2,
   "metadata": {},
   "outputs": [],
   "source": [
    "def train_rbm(training_data,epochs,num_samples,n_vis,n_hin,N_draws=1000):\n",
    "    '''\n",
    "        Train a restricted Boltzmann Machine \n",
    "        \n",
    "        Args:\n",
    "            training_data: \n",
    "            epochs:\n",
    "            num_samples:\n",
    "            N_draws:\n",
    "        Returns:\n",
    "            Array: An N_draw array containing the energies  \n",
    "    '''\n",
    "    \n",
    "    # Instantiate the RBM\n",
    "    rbm = RBM(n_vis, n_hin)\n",
    "    \n",
    "    # Carry out the training over the defined number of epochs\n",
    "    for e in range(1, epochs+1):\n",
    "        # do one epoch of training\n",
    "        rbm.train(training_data)   \n",
    "\n",
    "    E_samples = np.zeros(N_draws)\n",
    "    \n",
    "    for k in tqdm(range(0,N_draws)):\n",
    "        init_state = torch.zeros(num_samples, n_vis)\n",
    "        RBM_samples = rbm.draw_samples(100, init_state)\n",
    "        energies = Rydberg_energy_calculator.energy(RBM_samples, rbm.wavefunction)\n",
    "        E_samples[k] = energies.item()\n",
    "    \n",
    "    \n",
    "    return E_samples\n",
    "\n",
    "def confidence_interval(x):\n",
    "    '''\n",
    "    \n",
    "        Compute the 68% and 96% confidence inteval of a data set\n",
    "        \n",
    "        Args:\n",
    "            x: numpy array\n",
    "        Returns:\n",
    "            Tuple: array1,array2\n",
    "            \n",
    "            where array1 and array2 are each numpy arrays of length=3\n",
    "            array1 = [lower_68%_bound, median , upper_68%_bound]\n",
    "            array2 = [lower_96%_bound, median , upper_96%_bound]\n",
    "    '''\n",
    "    x_68 = np.percentile(x, [16,50,84])\n",
    "    x_96 = np.percentile(x, [2,50,98])\n",
    "    \n",
    "    return x_68,x_96"
   ]
  },
  {
   "cell_type": "markdown",
   "metadata": {},
   "source": [
    "# Training the RBM as a function of the number of hidden layers"
   ]
  },
  {
   "cell_type": "code",
   "execution_count": 4,
   "metadata": {},
   "outputs": [
    {
     "name": "stderr",
     "output_type": "stream",
     "text": [
      "  0%|          | 0/50 [00:00<?, ?it/s]/pytorch/aten/src/ATen/native/BinaryOps.cpp:81: UserWarning: Integer division of tensors using div or / is deprecated, and in a future release div will perform true division as in Python 3. Use true_divide or floor_divide (// in Python) instead.\n",
      "100%|██████████| 50/50 [04:01<00:00,  4.68s/it]\n"
     ]
    },
    {
     "name": "stdout",
     "output_type": "stream",
     "text": [
      "1 -4.1200725022710065 -4.1203519096 0.0002794073289935639\n"
     ]
    },
    {
     "name": "stderr",
     "output_type": "stream",
     "text": [
      "100%|██████████| 50/50 [04:04<00:00,  4.85s/it]\n"
     ]
    },
    {
     "name": "stdout",
     "output_type": "stream",
     "text": [
      "3 -4.120058106791608 -4.1203519096 0.0002938028083923072\n"
     ]
    },
    {
     "name": "stderr",
     "output_type": "stream",
     "text": [
      "100%|██████████| 50/50 [04:06<00:00,  4.93s/it]\n"
     ]
    },
    {
     "name": "stdout",
     "output_type": "stream",
     "text": [
      "5 -4.1200725338773925 -4.1203519096 0.000279375722607611\n"
     ]
    },
    {
     "name": "stderr",
     "output_type": "stream",
     "text": [
      "100%|██████████| 50/50 [04:14<00:00,  5.21s/it]\n"
     ]
    },
    {
     "name": "stdout",
     "output_type": "stream",
     "text": [
      "7 -4.120040983066661 -4.1203519096 0.0003109265333387512\n"
     ]
    },
    {
     "name": "stderr",
     "output_type": "stream",
     "text": [
      "100%|██████████| 50/50 [04:14<00:00,  5.15s/it]\n"
     ]
    },
    {
     "name": "stdout",
     "output_type": "stream",
     "text": [
      "9 -4.120017817277636 -4.1203519096 0.0003340923223644765\n"
     ]
    },
    {
     "name": "stderr",
     "output_type": "stream",
     "text": [
      "100%|██████████| 50/50 [04:22<00:00,  5.27s/it]\n"
     ]
    },
    {
     "name": "stdout",
     "output_type": "stream",
     "text": [
      "11 -4.120015918484322 -4.1203519096 0.0003359911156781692\n"
     ]
    },
    {
     "name": "stderr",
     "output_type": "stream",
     "text": [
      "100%|██████████| 50/50 [04:23<00:00,  5.21s/it]\n"
     ]
    },
    {
     "name": "stdout",
     "output_type": "stream",
     "text": [
      "13 -4.119973185989552 -4.1203519096 0.0003787236104484393\n"
     ]
    },
    {
     "name": "stderr",
     "output_type": "stream",
     "text": [
      "100%|██████████| 50/50 [04:28<00:00,  5.37s/it]\n"
     ]
    },
    {
     "name": "stdout",
     "output_type": "stream",
     "text": [
      "15 -4.11998591497831 -4.1203519096 0.00036599462169029096\n"
     ]
    },
    {
     "name": "stderr",
     "output_type": "stream",
     "text": [
      "100%|██████████| 50/50 [04:37<00:00,  5.39s/it]\n"
     ]
    },
    {
     "name": "stdout",
     "output_type": "stream",
     "text": [
      "17 -4.119942775906857 -4.1203519096 0.00040913369314310444\n"
     ]
    },
    {
     "name": "stderr",
     "output_type": "stream",
     "text": [
      "100%|██████████| 50/50 [04:40<00:00,  5.49s/it]"
     ]
    },
    {
     "name": "stdout",
     "output_type": "stream",
     "text": [
      "19 -4.11988223783707 -4.1203519096 0.0004696717629304459\n"
     ]
    },
    {
     "name": "stderr",
     "output_type": "stream",
     "text": [
      "\n"
     ]
    }
   ],
   "source": [
    "epochs = 1000\n",
    "num_samples = training_data.shape[0]\n",
    "exact_energy = -4.1203519096\n",
    "tol = 3*1e-4 # The desired tolerance level\n",
    "n_hid_max=20\n",
    "N_draws =50 # The number of samples to draw at the end for statistics \n",
    "\n",
    "n_hidden_array = []\n",
    "E_68_nhidden = []\n",
    "E_96_nhidden = []\n",
    "\n",
    "for nk in range(1,n_hid_max,2):\n",
    "    n_hidden_array.append(nk)\n",
    "    n_training_data = training_data.shape[1]\n",
    "    n_hin = nk\n",
    "    E_samples = train_rbm(training_data,epochs,n_vis=n_training_data,n_hin=n_hin,num_samples=num_samples,N_draws=N_draws)\n",
    "    E_68,E_96 = confidence_interval(E_samples)\n",
    "    E_68_nhidden.append(E_68)\n",
    "    E_96_nhidden.append(E_96)\n",
    "    print(nk,E_68[1],exact_energy, abs(E_68[1]-exact_energy))"
   ]
  },
  {
   "cell_type": "code",
   "execution_count": 5,
   "metadata": {},
   "outputs": [
    {
     "name": "stdout",
     "output_type": "stream",
     "text": [
      "====================================================================================================\n",
      "The minimum number of hidden units to reach tolerance level is:  5\n",
      "====================================================================================================\n"
     ]
    }
   ],
   "source": [
    "# Preprocess the results in order to generate the plot\n",
    "\n",
    "E_96_nhidden = np.array(E_96_nhidden)\n",
    "E_68_nhidden = np.array(E_68_nhidden)\n",
    "\n",
    "delta_E_med =  abs(E_96_nhidden[:,1]-exact_energy) #/tol\n",
    "delta_E_lower_68 =  abs(E_68_nhidden[:,0]-exact_energy)#/tol\n",
    "delta_E_upper_68 =  abs(E_68_nhidden[:,2]-exact_energy)#/tol\n",
    "delta_E_lower_96 =  abs(E_96_nhidden[:,0]-exact_energy)#/tol\n",
    "delta_E_upper_96 =  abs(E_96_nhidden[:,2]-exact_energy)#/tol\n",
    "\n",
    "# Determine the number of hidden nodes required for uncertainty band to overlap tolerance level\n",
    "n_hidden_tol_indx = np.argmin(delta_E_med)\n",
    "n_hidden_tol = n_hidden_array[n_hidden_tol_indx]\n",
    "\n",
    "\n",
    "print('='*100)\n",
    "print('The minimum number of hidden units to reach tolerance level is: ',n_hidden_tol)\n",
    "print('='*100)"
   ]
  },
  {
   "cell_type": "markdown",
   "metadata": {},
   "source": [
    "We now plot the achieved tolerance of the RBM as a function of the number of hidden units."
   ]
  },
  {
   "cell_type": "code",
   "execution_count": 37,
   "metadata": {},
   "outputs": [
    {
     "data": {
      "image/png": "[encoded data removed]",
      "text/plain": [
       "<Figure size 1080x360 with 1 Axes>"
      ]
     },
     "metadata": {
      "needs_background": "light"
     },
     "output_type": "display_data"
    }
   ],
   "source": [
    "plt.figure(figsize=(15,5))\n",
    "plt.title(r'Number of hidden units vs $|\\Delta E |$',size=15)\n",
    "plt.plot(n_hidden_array,delta_E_med,label='median',color='blue')\n",
    "plt.fill_between(n_hidden_array,delta_E_lower_68, delta_E_upper_68,color='blue',alpha='0.5',edgecolor='b')\n",
    "plt.fill_between(n_hidden_array,delta_E_lower_96, delta_E_upper_96,color='blue',alpha='0.2',edgecolor='b')\n",
    "plt.plot(n_hidden_array,tol*np.ones(len(n_hidden_array)),label='Tolerance level= '+str(round(tol,5)),color='r')\n",
    "plt.vlines( n_hidden_array[n_hidden_tol_indx],ymin=0,ymax=tol*1.3,label='tolerance-reached')\n",
    "plt.xlabel('N-hidden units',size=15)\n",
    "plt.ylabel(r'$|\\Delta E|$ [eV]',size=15)\n",
    "plt.legend()\n",
    "plt.show()"
   ]
  },
  {
   "cell_type": "markdown",
   "metadata": {},
   "source": [
    "From the above plot, we find that a reasonable tolerance level for the algorithm is tol=$3 \\cdot 10^{-4}$. We have also drawn several samples from the final trained RBM in order to plot the 68% confidence bands in darker blue and the 96% confidence bands in lighter blue.   \n",
    "\n",
    "At this level of tolerance, the best number of hidden units required to remain below the tolerance level was $n_{\\rm hidden }=5$. "
   ]
  },
  {
   "cell_type": "markdown",
   "metadata": {},
   "source": [
    "# Training the RBM as a function of the amount of data\n",
    "\n",
    "In the next blocks we keep the number of hidden layers fixed using the value we found in the previous blocks and vary the amount of data that we use for training. "
   ]
  },
  {
   "cell_type": "code",
   "execution_count": 29,
   "metadata": {},
   "outputs": [
    {
     "name": "stderr",
     "output_type": "stream",
     "text": [
      "100%|██████████| 50/50 [00:13<00:00,  3.78it/s]\n",
      "100%|██████████| 50/50 [00:43<00:00,  1.17it/s]\n",
      "100%|██████████| 50/50 [01:09<00:00,  1.41s/it]\n",
      "100%|██████████| 50/50 [01:39<00:00,  1.90s/it]\n",
      "100%|██████████| 50/50 [02:09<00:00,  2.53s/it]\n",
      "100%|██████████| 50/50 [02:43<00:00,  3.17s/it]\n",
      "100%|██████████| 50/50 [03:17<00:00,  3.83s/it]\n",
      "100%|██████████| 50/50 [03:57<00:00,  4.53s/it]\n"
     ]
    }
   ],
   "source": [
    "epochs = 1000\n",
    "num_samples = training_data.shape[0]\n",
    "exact_energy = -4.1203519096\n",
    "N_draws =50 # The number of samples to draw at the end \n",
    "\n",
    "n_samples_array = []\n",
    "E_68_nsamples = []\n",
    "E_96_nsamples = []\n",
    "\n",
    "for nk in range(500,training_data.shape[0],2500):\n",
    "    n_samples_array.append(nk)\n",
    "    n_training_data = training_data.shape[1]\n",
    "    n_hin = n_hidden_tol # The optimal number of hidden layers\n",
    "    E_samples = train_rbm(training_data,epochs,n_vis=n_training_data,n_hin=n_hin,num_samples=nk,N_draws=N_draws)\n",
    "    E_68,E_96 = confidence_interval(E_samples)\n",
    "    E_68_nsamples.append(E_68)\n",
    "    E_96_nsamples.append(E_96)"
   ]
  },
  {
   "cell_type": "code",
   "execution_count": 40,
   "metadata": {},
   "outputs": [],
   "source": [
    "E_96_nsamples = np.array(E_96_nsamples)\n",
    "E_68_nsamples= np.array(E_68_nsamples)\n",
    "\n",
    "ddelta_E_med =  abs(E_68_nsamples[:,1]-exact_energy)\n",
    "ddelta_E_lower_68 =  abs(E_68_nsamples[:,0]-exact_energy)\n",
    "ddelta_E_upper_68 =  abs(E_68_nsamples[:,2]-exact_energy)\n",
    "ddelta_E_lower_96 =  abs(E_96_nsamples[:,0]-exact_energy)\n",
    "ddelta_E_upper_96 =  abs(E_96_nsamples[:,2]-exact_energy)"
   ]
  },
  {
   "cell_type": "markdown",
   "metadata": {},
   "source": [
    "Finally we plot the median values of the achieved tolerance levels with the 68% and 96% confidence intervals."
   ]
  },
  {
   "cell_type": "code",
   "execution_count": 41,
   "metadata": {},
   "outputs": [
    {
     "data": {
      "image/png": "[encoded data removed]",
      "text/plain": [
       "<Figure size 1080x360 with 1 Axes>"
      ]
     },
     "metadata": {
      "needs_background": "light"
     },
     "output_type": "display_data"
    }
   ],
   "source": [
    "plt.figure(figsize=(15,5))\n",
    "plt.title(r'Number of Data samples vs $|\\Delta E |$',size=15)\n",
    "plt.plot(n_samples_array,ddelta_E_med,label='median',color='blue')\n",
    "plt.fill_between(n_samples_array,ddelta_E_lower_68, ddelta_E_upper_68,color='blue',alpha='0.5',edgecolor='b')\n",
    "plt.fill_between(n_samples_array,ddelta_E_lower_96, ddelta_E_upper_96,color='blue',alpha='0.2',edgecolor='b')\n",
    "plt.plot(n_samples_array,tol*np.ones(len(n_samples_array)),label='Tolerance level= '+str(round(tol,5)),color='red')\n",
    "plt.xlabel('Data samples',size=15)\n",
    "plt.ylabel(r'$|\\Delta E|$ [eV]',size=15)\n",
    "plt.legend()\n",
    "plt.show()\n"
   ]
  },
  {
   "cell_type": "markdown",
   "metadata": {},
   "source": [
    "From the above plot, we see that as the amount of training data increases, the variance of th results decreases.\n",
    "The median of the achieved tolerance level remains about the same for all calculations. To achieve the \n",
    "minimum variance/ amount of data samples, we need approximately $N_{\\rm data}= 15,000$ training samples."
   ]
  },
  {
   "cell_type": "code",
   "execution_count": null,
   "metadata": {},
   "outputs": [],
   "source": []
  }
 ],
 "metadata": {
  "kernelspec": {
   "display_name": "Python 3",
   "language": "python",
   "name": "python3"
  },
  "language_info": {
   "codemirror_mode": {
    "name": "ipython",
    "version": 3
   },
   "file_extension": ".py",
   "mimetype": "text/x-python",
   "name": "python",
   "nbconvert_exporter": "python",
   "pygments_lexer": "ipython3",
   "version": "3.7.3"
  },
  "toc": {
   "base_numbering": 1,
   "nav_menu": {},
   "number_sections": true,
   "sideBar": true,
   "skip_h1_title": false,
   "title_cell": "Table of Contents",
   "title_sidebar": "Contents",
   "toc_cell": false,
   "toc_position": {},
   "toc_section_display": true,
   "toc_window_display": false
  },
  "varInspector": {
   "cols": {
    "lenName": 16,
    "lenType": 16,
    "lenVar": 40
   },
   "kernels_config": {
    "python": {
     "delete_cmd_postfix": "",
     "delete_cmd_prefix": "del ",
     "library": "var_list.py",
     "varRefreshCmd": "print(var_dic_list())"
    },
    "r": {
     "delete_cmd_postfix": ") ",
     "delete_cmd_prefix": "rm(",
     "library": "var_list.r",
     "varRefreshCmd": "cat(var_dic_list()) "
    }
   },
   "types_to_exclude": [
    "module",
    "function",
    "builtin_function_or_method",
    "instance",
    "_Feature"
   ],
   "window_display": false
  }
 },
 "nbformat": 4,
 "nbformat_minor": 2
}
