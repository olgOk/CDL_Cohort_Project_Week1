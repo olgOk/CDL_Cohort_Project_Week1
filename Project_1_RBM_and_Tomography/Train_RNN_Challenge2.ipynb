{
  "nbformat": 4,
  "nbformat_minor": 0,
  "metadata": {
    "colab": {
      "name": "Train_RNN_Test.ipynb",
      "provenance": [],
      "collapsed_sections": [],
      "authorship_tag": "ABX9TyNOCtEHYjKPNuwm5YwMuNCc",
      "include_colab_link": true
    },
    "kernelspec": {
      "name": "python3",
      "display_name": "Python 3"
    }
  },
  "cells": [
    {
      "cell_type": "markdown",
      "metadata": {
        "id": "view-in-github",
        "colab_type": "text"
      },
      "source": [
        "<a href=\"https://colab.research.google.com/github/olgOk/CohortProject_2020/blob/master/Project_1_RBM_and_Tomography/Train_RNN_Challenge2.ipynb\" target=\"_parent\"><img src=\"https://colab.research.google.com/assets/colab-badge.svg\" alt=\"Open In Colab\"/></a>"
      ]
    },
    {
      "cell_type": "code",
      "metadata": {
        "id": "7Tkq-lhQI_DN",
        "colab_type": "code",
        "colab": {
          "base_uri": "https://localhost:8080/",
          "height": 190
        },
        "outputId": "9dd11e33-c124-4a32-a004-6c86e5cecc72"
      },
      "source": [
        "import torch\n",
        "from torch import nn\n",
        "from torch.autograd import Variable\n",
        "import torchvision.datasets as dsets\n",
        "import torchvision.transforms as transforms\n",
        "import matplotlib.pyplot as plt\n",
        "import numpy as np\n",
        "import tensorflow as tf\n",
        "%matplotlib inline\n",
        "\n",
        "# Added code to run on google colab\n",
        "import sys\n",
        "IN_COLAB = 'google.colab' in sys.modules\n",
        "if IN_COLAB:\n",
        "  ! git clone https://github.com/olgOk/CohortProject_2020.git\n",
        "  from google.colab import drive\n",
        "  drive.mount('/content/gdrive')\n",
        "  %cd CohortProject_2020/\n",
        "  %cd Project_1_RBM_and_Tomography/\n",
        "  ! git pull\n",
        "\n",
        "torch.manual_seed(1)\n",
        "\n",
        "import Rydberg_energy_calculator\n",
        "\n",
        "# Hyper Parameters\n",
        "EPOCH = 1               # train the training data n times, to save time, we just train 1 epoch\n",
        "BATCH_SIZE = 1\n",
        "TIME_STEP = 1          # rnn time step / image height\n",
        "INPUT_SIZE = 100         # rnn input size / image width\n",
        "LR = 0.01               # learning rate\n",
        "DOWNLOAD_MNIST = True   # set to True if haven't download the data\n",
        "\n",
        "training_data = torch.from_numpy(np.loadtxt(\"Rydberg_data.txt\")).float()\n",
        "train_loader = torch.utils.data.DataLoader(dataset=training_data,\n",
        "                                           batch_size=BATCH_SIZE, shuffle=True)"
      ],
      "execution_count": 101,
      "outputs": [
        {
          "output_type": "stream",
          "text": [
            "Cloning into 'CohortProject_2020'...\n",
            "remote: Enumerating objects: 843, done.\u001b[K\n",
            "remote: Total 843 (delta 0), reused 0 (delta 0), pack-reused 843\u001b[K\n",
            "Receiving objects: 100% (843/843), 19.79 MiB | 14.92 MiB/s, done.\n",
            "Resolving deltas: 100% (450/450), done.\n",
            "Drive already mounted at /content/gdrive; to attempt to forcibly remount, call drive.mount(\"/content/gdrive\", force_remount=True).\n",
            "/content/CohortProject_2020/Project_1_RBM_and_Tomography/CohortProject_2020/Project_1_RBM_and_Tomography/CohortProject_2020/Project_1_RBM_and_Tomography/CohortProject_2020/Project_1_RBM_and_Tomography/CohortProject_2020/Project_1_RBM_and_Tomography/CohortProject_2020/Project_1_RBM_and_Tomography/CohortProject_2020\n",
            "/content/CohortProject_2020/Project_1_RBM_and_Tomography/CohortProject_2020/Project_1_RBM_and_Tomography/CohortProject_2020/Project_1_RBM_and_Tomography/CohortProject_2020/Project_1_RBM_and_Tomography/CohortProject_2020/Project_1_RBM_and_Tomography/CohortProject_2020/Project_1_RBM_and_Tomography/CohortProject_2020/Project_1_RBM_and_Tomography\n",
            "Already up to date.\n"
          ],
          "name": "stdout"
        }
      ]
    },
    {
      "cell_type": "code",
      "metadata": {
        "id": "3ecMYn4yO__L",
        "colab_type": "code",
        "colab": {}
      },
      "source": [
        "class RNN(nn.Module):\n",
        "    def __init__(self):\n",
        "        super(RNN, self).__init__()\n",
        "\n",
        "        self.rnn = nn.LSTM(         # if use nn.RNN(), it hardly learns\n",
        "            input_size=INPUT_SIZE,\n",
        "            hidden_size=64,         # rnn hidden unit\n",
        "            num_layers=1,           # number of rnn layer\n",
        "            batch_first=True,       # input & output will has batch size as 1s dimension. e.g. (batch, time_step, input_size)\n",
        "        )\n",
        "\n",
        "        self.out = nn.Linear(64, 10)\n",
        "\n",
        "    def forward(self, x):\n",
        "        # x shape (batch, time_step, input_size)\n",
        "        # r_out shape (batch, time_step, output_size)\n",
        "        # h_n shape (n_layers, batch, hidden_size)\n",
        "        # h_c shape (n_layers, batch, hidden_size)\n",
        "        r_out, (h_n, h_c) = self.rnn(x, None)   # None represents zero initial hidden state\n",
        "\n",
        "        # choose r_out at the last time step\n",
        "        out = self.out(r_out[:, -1, :])\n",
        "        return out"
      ],
      "execution_count": 102,
      "outputs": []
    },
    {
      "cell_type": "code",
      "metadata": {
        "id": "9jeAJ_NfPU5j",
        "colab_type": "code",
        "colab": {
          "base_uri": "https://localhost:8080/",
          "height": 85
        },
        "outputId": "89e9961c-3b54-4b24-a988-51f4cc2128e2"
      },
      "source": [
        "rnn = RNN()\n",
        "print(rnn)\n",
        "\n",
        "def SimpleLoss(rnn_output, label) :\n",
        "  return rnn_output + label\n",
        "\n",
        "optimizer = torch.optim.Adam(rnn.parameters(), lr=LR)   # optimize all cnn parameters\n",
        "loss_func = SimpleLoss                       \n",
        "\n"
      ],
      "execution_count": 103,
      "outputs": [
        {
          "output_type": "stream",
          "text": [
            "RNN(\n",
            "  (rnn): LSTM(100, 64, batch_first=True)\n",
            "  (out): Linear(in_features=64, out_features=10, bias=True)\n",
            ")\n"
          ],
          "name": "stdout"
        }
      ]
    },
    {
      "cell_type": "code",
      "metadata": {
        "id": "CmzsnMuZPbFF",
        "colab_type": "code",
        "colab": {}
      },
      "source": [
        ""
      ],
      "execution_count": null,
      "outputs": []
    },
    {
      "cell_type": "code",
      "metadata": {
        "colab_type": "code",
        "id": "CCBKFCUq_Jwj",
        "colab": {
          "base_uri": "https://localhost:8080/",
          "height": 748
        },
        "outputId": "5579f658-61eb-4120-a8ec-b18ab544f87f"
      },
      "source": [
        "exact_energy = -4.1203519096\n",
        "n=torch.tensor([-4.1203519096]).long()\n",
        "\n",
        "# training and testing\n",
        "for epoch in range(EPOCH):\n",
        "        if epoch % 100 == 0:\n",
        "            print(\"\\nEpoch: \", epoch)\n",
        "            print(\"Sampling...\")\n",
        "            it = iter(train_loader)\n",
        "            iter_count = 0\n",
        "            while iter_count < 1000:\n",
        "                first = next(it)\n",
        "                X = first.view(-1, *first.size()) \n",
        "                b_first = Variable(first.view(1, 1, 100))              # reshape x to (batch, time_step, input_size)\n",
        "                RNN_samples = rnn(b_first)                               # rnn output\n",
        "                iter_count = iter_count + 1\n",
        "                outp = float(RNN_samples[0][0])\n",
        "                sampled_energy =  SimpleLoss(outp, exact_energy)  \n",
        "                if iter_count % 100 == 0:\n",
        "                  print(\"\\nIteration: \", iter_count)\n",
        "                  print(\"Sampling...\")                # cross entropy loss\n",
        "                  print('Energy from RNN sample: ' + str(sampled_energy))\n",
        "                optimizer.zero_grad()                           # clear gradients for this training step\n",
        "                #Gradient descent to be improved with cross entropy loss function and backpropagation\n"
      ],
      "execution_count": 105,
      "outputs": [
        {
          "output_type": "stream",
          "text": [
            "\n",
            "Epoch:  0\n",
            "Sampling...\n",
            "\n",
            "Iteration:  100\n",
            "Sampling...\n",
            "Energy from RNN sample: -4.149465355030994\n",
            "\n",
            "Iteration:  200\n",
            "Sampling...\n",
            "Energy from RNN sample: -4.150871149204473\n",
            "\n",
            "Iteration:  300\n",
            "Sampling...\n",
            "Energy from RNN sample: -4.146119668088655\n",
            "\n",
            "Iteration:  400\n",
            "Sampling...\n",
            "Energy from RNN sample: -4.149465355030994\n",
            "\n",
            "Iteration:  500\n",
            "Sampling...\n",
            "Energy from RNN sample: -4.1589032178146645\n",
            "\n",
            "Iteration:  600\n",
            "Sampling...\n",
            "Energy from RNN sample: -4.15178526093791\n",
            "\n",
            "Iteration:  700\n",
            "Sampling...\n",
            "Energy from RNN sample: -4.1487737399859235\n",
            "\n",
            "Iteration:  800\n",
            "Sampling...\n",
            "Energy from RNN sample: -4.129920273028116\n",
            "\n",
            "Iteration:  900\n",
            "Sampling...\n",
            "Energy from RNN sample: -4.137678111843567\n",
            "\n",
            "Iteration:  1000\n",
            "Sampling...\n",
            "Energy from RNN sample: -4.149465355030994\n"
          ],
          "name": "stdout"
        }
      ]
    }
  ]
}