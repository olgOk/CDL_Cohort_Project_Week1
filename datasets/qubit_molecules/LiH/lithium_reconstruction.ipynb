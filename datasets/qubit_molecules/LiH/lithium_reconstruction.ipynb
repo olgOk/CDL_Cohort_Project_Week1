{
 "cells": [
  {
   "cell_type": "markdown",
   "metadata": {},
   "source": [
    "# Qubit-data for Lithium Hydride"
   ]
  },
  {
   "cell_type": "code",
   "execution_count": 2,
   "metadata": {},
   "outputs": [],
   "source": [
    "import pickle\n",
    "from pylab import *\n",
    "import numpy as np\n",
    "import math as m\n",
    "from functools import reduce\n",
    "import matplotlib.pyplot as plt"
   ]
  },
  {
   "cell_type": "markdown",
   "metadata": {},
   "source": [
    "## Preliminaries"
   ]
  },
  {
   "cell_type": "markdown",
   "metadata": {},
   "source": [
    "The fermionic Hamiltonian in second quantization (with $M$ orbitals)\n",
    "\n",
    "$$ H = \\sum_{\\alpha,\\beta=1}^M t_{\\alpha\\beta}c^\\dagger_\\alpha c_\\beta \n",
    "+ \\frac{1}{2}\\sum_{\\alpha\\beta=1}^M\\sum_{\\gamma\\delta=1}^M u_{\\alpha\\beta\\gamma\\delta}c^\\dagger_\\alpha c^\\dagger_\\gamma c_\\delta c_\\beta$$\n",
    "\n",
    "is mapped into a qubit Hamiltonian in the form\n",
    "\n",
    "$$ H = \\sum_kc_kP_k $$\n",
    "\n",
    "where $c_k$ are interaction coefficients and $P_k$ are elements of the $N$-qubit Pauli group $\\mathcal{P}_N=\\{\\mathbb{1},X,Y,Z\\}^{\\otimes N}$.\n",
    "\n",
    "The interaction coefficients and the Pauli operators can be found in the `interaction.file` and the `pauli.file` respectively.\n",
    "\n",
    "Specifics:\n",
    "- Number of qubits: 4\n",
    "- Molecule geometry: bond distance\n",
    "- Fermionic basis: atomic STO-3G\n",
    "- Qubit mapping: spin-parity"
   ]
  },
  {
   "cell_type": "markdown",
   "metadata": {},
   "source": [
    "## Exact diagonalization"
   ]
  },
  {
   "cell_type": "code",
   "execution_count": 3,
   "metadata": {},
   "outputs": [],
   "source": [
    "# Identity \n",
    "I = np.asarray([[1.,0.],[0.,1.]])\n",
    "# Pauli X\n",
    "X = np.asarray([[0.,1.],[1.,0.]])\n",
    "# Pauli Y\n",
    "Y = np.asarray([[0.,-1j],[1j,0.]])\n",
    "# Pauli Z\n",
    "Z = np.asarray([[1.,0.],[0.,-1.]])"
   ]
  },
  {
   "cell_type": "code",
   "execution_count": 4,
   "metadata": {},
   "outputs": [],
   "source": [
    "def operatorfromstring(pauli_string):\n",
    "    \"\"\"\n",
    "    Generate a many-body operator from a list of single-qubit \n",
    "    pauli matrices.\n",
    "    ---------------------------------------------------------\n",
    "    Input    pauli_string: str , (ex: [X,Z,X,Y,...])\n",
    "    \n",
    "    Output   pauli_op: np.array, shape = [2**N,2**N]\n",
    "    \"\"\"\n",
    "    op_list = []\n",
    "    for k in range(len(pauli_string)):\n",
    "        if (pauli_string[k] == 'X'):\n",
    "            op_list.append(X)\n",
    "        elif (pauli_string[k] == 'Y'):\n",
    "            op_list.append(Y)\n",
    "        elif (pauli_string[k] == 'Z'):\n",
    "            op_list.append(Z)\n",
    "        else:\n",
    "            op_list.append(I)\n",
    "\n",
    "    return reduce(np.kron,op_list)\n",
    "\n",
    "def hamiltonian(pauli_list,interactions):\n",
    "    \"\"\"\n",
    "    Generate a many-body hamiltonian\n",
    "    ---------------------------------------------------------\n",
    "    Input    pauli_list: list of pauli strings\n",
    "             interactions: list of interaction strengths\n",
    "    \n",
    "    Output   hamiltonian: np.array, shape = [2**N,2**N]\n",
    "    \"\"\"\n",
    "    N = len(pauli_list[0])\n",
    "    hamiltonian = np.zeros((1<<N,1<<N),dtype=complex)\n",
    "    for i,pauli in enumerate(pauli_list):\n",
    "        hamiltonian += interactions[i]*operatorfromstring(pauli)\n",
    "    return hamiltonian\n",
    "\n",
    "def eigensolve(hamiltonian):\n",
    "    \"\"\"\n",
    "    Compute ground state energy and wavefunction\n",
    "    \"\"\"\n",
    "    (eigenvalues,eigenstates) = np.linalg.eigh(hamiltonian)\n",
    "    return eigenvalues[0],eigenstates[:,0]"
   ]
  },
  {
   "cell_type": "code",
   "execution_count": 5,
   "metadata": {},
   "outputs": [
    {
     "name": "stdout",
     "output_type": "stream",
     "text": [
      "Pauli: IIII  | Interaction: -8.022E+00\n",
      "Pauli: ZIII  | Interaction: -9.276E-02\n",
      "Pauli: XZII  | Interaction: -2.941E-03\n",
      "Pauli: XIII  | Interaction: 2.941E-03\n",
      "Pauli: ZZII  | Interaction: -2.119E-01\n",
      "Pauli: YYII  | Interaction: 7.428E-04\n",
      "Pauli: XXII  | Interaction: -7.428E-04\n",
      "Pauli: ZXII  | Interaction: 1.939E-02\n",
      "Pauli: IXII  | Interaction: 1.939E-02\n",
      "Pauli: IZII  | Interaction: 3.653E-01\n",
      "...\n"
     ]
    }
   ],
   "source": [
    "pauli_list   = np.load('paulis.file',allow_pickle=True)\n",
    "interactions = np.load('interactions.file',allow_pickle = True)\n",
    "for k in range(10):\n",
    "    print('Pauli:',pauli_list[k],' | Interaction: %.3E' % interactions[k])\n",
    "print('...')"
   ]
  },
  {
   "cell_type": "code",
   "execution_count": 6,
   "metadata": {},
   "outputs": [
    {
     "name": "stdout",
     "output_type": "stream",
     "text": [
      "Ground state energy: -8.9073963113\n",
      "\n",
      "Ground state wavefunction:\n",
      "\n",
      " [-4.96394908e-03+0.j  2.53269627e-16+0.j -5.76276175e-02+0.j\n",
      "  1.11651339e-01+0.j -3.26381702e-02+0.j  5.08356315e-16+0.j\n",
      "  3.54539651e-02+0.j -5.76276175e-02+0.j  1.38777878e-16+0.j\n",
      "  1.23592416e-25+0.j  5.01265465e-18+0.j -1.14084922e-17+0.j\n",
      " -9.88663405e-01+0.j -2.63778775e-17+0.j -3.26381702e-02+0.j\n",
      " -4.96394908e-03+0.j]\n"
     ]
    }
   ],
   "source": [
    "# Build the full Hamiltonian and get the ground state energy / wavefunction\n",
    "H = hamiltonian(pauli_list,interactions)\n",
    "E0,psi0 = eigensolve(H)\n",
    "print('Ground state energy: %.10f\\n' % E0 )\n",
    "print('Ground state wavefunction:\\n\\n',psi0)"
   ]
  },
  {
   "cell_type": "markdown",
   "metadata": {},
   "source": [
    " ## Neural-network reconstruction"
   ]
  },
  {
   "cell_type": "markdown",
   "metadata": {},
   "source": [
    "Quantum state reconstruction of the LiH ground state with a restricted Boltzmann machine, using the NetKet library.\n",
    "\n",
    "References:\n",
    "- _\"Machine learning quantum states in the NISQ era\"_ : review of quantum state reconstruction with restricted Boltzmann machines. https://arxiv.org/abs/1905.04312\n",
    "- _\"Precise measurement of quantum observables with neural-network estimators\"_ RBM reconstruction of molecular ground states. https://arxiv.org/abs/1910.07596\n",
    "- _\"NetKet: A Machine Learning Toolkit for Many-Body Quantum Systems\"_ Overview of the NetKet software library. https://arxiv.org/abs/1904.00031"
   ]
  },
  {
   "cell_type": "code",
   "execution_count": 7,
   "metadata": {},
   "outputs": [],
   "source": [
    "from mpi4py import MPI \n",
    "import netket as nk"
   ]
  },
  {
   "cell_type": "code",
   "execution_count": 8,
   "metadata": {},
   "outputs": [],
   "source": [
    "# Unitary matrices for the rotation in the X and Y bases\n",
    "rotationX = 1./(math.sqrt(2))*np.asarray([[1.,1.],[1.,-1.]])\n",
    "rotationY= 1./(math.sqrt(2))*np.asarray([[1.,-1j],[1.,1j]])\n",
    "\n",
    "def LoadData(N,hilbert,path_to_samples, path_to_bases):\n",
    "    training_samples = []\n",
    "    training_bases = []\n",
    "\n",
    "    tsamples = np.loadtxt(path_to_samples)\n",
    "    assert(N == tsamples.shape[1])\n",
    "    fin_bases = open(path_to_bases, 'r')\n",
    "    lines = fin_bases.readlines()\n",
    "\n",
    "    bases = []\n",
    "\n",
    "    for b in lines:\n",
    "        basis = \"\"\n",
    "        assert(len(b) == N + 1)\n",
    "        for j in range(N):\n",
    "            basis += b[j]\n",
    "        bases.append(basis)\n",
    "    index_list = sorted(range(len(bases)), key=lambda k: bases[k])\n",
    "    bases.sort()\n",
    "\n",
    "    for i in range(len(tsamples)):\n",
    "        training_samples.append(tsamples[index_list[i]].tolist())\n",
    "\n",
    "    rotations = []\n",
    "\n",
    "    tmp = ''\n",
    "    b_index = -1\n",
    "    for b in bases:\n",
    "        if (b != tmp):\n",
    "            tmp = b\n",
    "            localop = nk.operator.LocalOperator(hilbert, 1.0)\n",
    "\n",
    "            for j in range(N):\n",
    "                if (tmp[j] == 'X'):\n",
    "                    localop *= nk.operator.LocalOperator(hilbert, rotationX, [j])\n",
    "                if (tmp[j] == 'Y'):\n",
    "                    localop *= nk.operator.LocalOperator(hilbert, rotationY, [j])\n",
    "\n",
    "            rotations.append(localop)\n",
    "            b_index += 1\n",
    "        training_bases.append(b_index)\n",
    "\n",
    "    return tuple(rotations), np.asarray(training_samples), np.asarray(training_bases)\n",
    "\n",
    "def OperatorFromString(op_string):                                                \n",
    "    OpList = []                                                                   \n",
    "    Sites = []                                                                    \n",
    "    for k in range(len(op_string)):                                               \n",
    "        if (op_string[k] == 'X'):                                                 \n",
    "            OpList.append(X)                                                      \n",
    "            Sites.append(k)                                                       \n",
    "        elif (op_string[k] == 'Y'):                                               \n",
    "            OpList.append(Y)                                                      \n",
    "            Sites.append(k)                                                       \n",
    "        elif (op_string[k] == 'Z'):                                               \n",
    "            OpList.append(Z)                                                      \n",
    "            Sites.append(k)                                                       \n",
    "    return Sites,reduce(np.kron,OpList) \n",
    "\n",
    "def BuildHamiltonian(N,hilbert,pauli_path,interactions_path):                     \n",
    "    pauli = np.load(pauli_path,allow_pickle=True)                                 \n",
    "    interactions = np.load(interactions_path,allow_pickle=True)                   \n",
    "                                                                                  \n",
    "    hamiltonian = nk.operator.LocalOperator(hilbert, 0.0)                                                                                 \n",
    "    for h in range(0,len(pauli)):                                                                                           \n",
    "        flag = 0                                                                  \n",
    "        for j in range(N):                                                        \n",
    "            if (pauli[h][j]!='I'): flag = 1; break                                \n",
    "        if flag == 0:                                                             \n",
    "            hamiltonian += nk.operator.LocalOperator(hilbert,np.real(interactions[h]))\n",
    "        else:                                                                     \n",
    "            sites,operator = OperatorFromString(pauli[h])                         \n",
    "            h_term = interactions[h]*operator\n",
    "            hamiltonian += nk.operator.LocalOperator(hilbert,h_term,sites)        \n",
    "            \n",
    "    return hamiltonian "
   ]
  },
  {
   "cell_type": "code",
   "execution_count": 9,
   "metadata": {},
   "outputs": [],
   "source": [
    "N = 4          # Number of qubits\n",
    "ns = 100000    # Number of training samples\n",
    "lr = 0.01      # Learning rate\n",
    "M = 10000      # Number of samples for the negative CD phase\n",
    "bs = 1000      # Batch size\n",
    "epochs = 500   # Epochs\n",
    "\n",
    "samples_path = \"train_samples.txt\"\n",
    "bases_path = \"train_bases.txt\"\n",
    "pauli_path = \"paulis.file\"\n",
    "interactions_path = \"interactions.file\""
   ]
  },
  {
   "cell_type": "code",
   "execution_count": 10,
   "metadata": {},
   "outputs": [],
   "source": [
    "# Lattice\n",
    "graph = nk.graph.Hypercube(length=N, n_dim=1,pbc=False)\n",
    "# Hilbert space\n",
    "hilbert = nk.hilbert.Qubit(graph=graph)\n",
    "# NetKet Hamiltonian\n",
    "hamiltonian = BuildHamiltonian(N,hilbert,pauli_path,interactions_path)"
   ]
  },
  {
   "cell_type": "code",
   "execution_count": 11,
   "metadata": {},
   "outputs": [],
   "source": [
    "# Load training data\n",
    "rotations, tr_samples, tr_bases = LoadData(N,hilbert,samples_path, bases_path)\n",
    "if (ns > tr_samples.shape[0]):\n",
    "    \"Not enough training samples\"\n",
    "else:\n",
    "    training_samples = tr_samples[0:ns]\n",
    "    training_bases   = tr_bases[0:ns]"
   ]
  },
  {
   "cell_type": "code",
   "execution_count": 12,
   "metadata": {},
   "outputs": [],
   "source": [
    "# RBM wavefunction\n",
    "# ma = nk.machine.RbmSpinPhase(hilbert=hilbert, alpha=1)  # Real-weights RBM (amplitude + phase)\n",
    "ma = nk.machine.RbmSpin(hilbert=hilbert, alpha=1)        # Complex-weights RBM, alpha=num_hidden/N\n",
    "ma.init_random_parameters(seed=1234, sigma=0.01)"
   ]
  },
  {
   "cell_type": "code",
   "execution_count": 13,
   "metadata": {},
   "outputs": [],
   "source": [
    "# Sampler\n",
    "sa = nk.sampler.MetropolisLocal(machine=ma)\n",
    "\n",
    "# Optimizer + Stochastic Reconfiguration\n",
    "#op = nk.optimizer.Sgd(learning_rate=lr)\n",
    "op = nk.optimizer.RmsProp(learning_rate=lr,beta=0.9,epscut = 1.0e-6)\n",
    "sr = nk.optimizer.SR(diag_shift=0.1)"
   ]
  },
  {
   "cell_type": "code",
   "execution_count": 14,
   "metadata": {},
   "outputs": [
    {
     "name": "stderr",
     "output_type": "stream",
     "text": [
      "/Users/user/opt/anaconda3/lib/python3.7/site-packages/ipykernel_launcher.py:14: FutureWarning: Call to deprecated function 'add_observable'\n",
      "  \n"
     ]
    }
   ],
   "source": [
    "# Quantum state tomography object\n",
    "qst = nk.Qsr(\n",
    "    sampler=sa,\n",
    "    optimizer=op,\n",
    "    samples=training_samples,\n",
    "    rotations=rotations,\n",
    "    bases=training_bases,\n",
    "    n_samples=M,\n",
    "    n_samples_data=bs,\n",
    "    sr=sr,\n",
    "    #sr=None\n",
    ")\n",
    "# Measure the energy while training\n",
    "qst.add_observable(hamiltonian, \"Energy\")"
   ]
  },
  {
   "cell_type": "code",
   "execution_count": 15,
   "metadata": {},
   "outputs": [
    {
     "name": "stderr",
     "output_type": "stream",
     "text": [
      "/Users/user/opt/anaconda3/lib/python3.7/site-packages/ipykernel_launcher.py:11: FutureWarning: Call to deprecated function 'get_observable_stats'\n",
      "  # This is added back by InteractiveShellApp.init_path()\n"
     ]
    },
    {
     "name": "stdout",
     "output_type": "stream",
     "text": [
      "Epoch = 0   Overlap = 0.259903   observables={'Energy': (-7.961 - 0.000i) ± 0.012 [var=0.492, R=1.00159], '': None}\n"
     ]
    },
    {
     "name": "stderr",
     "output_type": "stream",
     "text": [
      "/Users/user/opt/anaconda3/lib/python3.7/site-packages/ipykernel_launcher.py:11: FutureWarning: Call to deprecated function 'get_observable_stats'\n",
      "  # This is added back by InteractiveShellApp.init_path()\n"
     ]
    },
    {
     "name": "stdout",
     "output_type": "stream",
     "text": [
      "Epoch = 10   Overlap = 0.325450   observables={'Energy': (-8.0126 + 0.0000i) ± 0.0076 [var=0.5451, R=1.00004], '': None}\n",
      "Epoch = 20   Overlap = 0.377313   observables={'Energy': (-8.050 - 0.000i) ± 0.010 [var=0.567, R=1.00073], '': None}\n",
      "Epoch = 30   Overlap = 0.438431   observables={'Energy': (-8.1155 - 0.0001i) ± 0.0068 [var=0.5793, R=0.99984], '': None}\n",
      "Epoch = 40   Overlap = 0.516471   observables={'Energy': (-8.1948 + 0.0001i) ± 0.0098 [var=0.5749, R=1.00054], '': None}\n",
      "Epoch = 50   Overlap = 0.605845   observables={'Energy': (-8.318 - 0.000i) ± 0.011 [var=0.520, R=1.00112], '': None}\n",
      "Epoch = 60   Overlap = 0.701076   observables={'Energy': (-8.4452 - 0.0003i) ± 0.0085 [var=0.4362, R=1.00054], '': None}\n",
      "Epoch = 70   Overlap = 0.792531   observables={'Energy': (-8.572 - 0.000i) ± 0.012 [var=0.328, R=1.00258], '': None}\n",
      "Epoch = 80   Overlap = 0.871762   observables={'Energy': (-8.6951 - 0.0011i) ± 0.0095 [var=0.2261, R=1.00238], '': None}\n",
      "Epoch = 90   Overlap = 0.928389   observables={'Energy': (-8.7985 + 0.0023i) ± 0.0070 [var=0.1066, R=1.00284], '': None}\n",
      "Epoch = 100   Overlap = 0.961783   observables={'Energy': (-8.8301 - 0.0063i) ± 0.0085 [var=0.0806, R=1.00642], '': None}\n",
      "Epoch = 110   Overlap = 0.980111   observables={'Energy': (-8.8733 - 0.0016i) ± 0.0075 [var=0.0324, R=1.01312], '': None}\n",
      "Epoch = 120   Overlap = 0.988551   observables={'Energy': (-8.8925 - 0.0002i) ± 0.0030 [var=0.0111, R=1.00579], '': None}\n",
      "Epoch = 130   Overlap = 0.991458   observables={'Energy': (-8.8908 - 0.0062i) ± 0.0053 [var=0.0737, R=1.00230], '': None}\n",
      "Epoch = 140   Overlap = 0.994069   observables={'Energy': (-8.8986 + 0.0003i) ± 0.0047 [var=0.0079, R=1.02139], '': None}\n",
      "Epoch = 150   Overlap = 0.995660   observables={'Energy': (-8.9031 - 0.0008i) ± 0.0015 [var=0.0037, R=1.00402], '': None}\n",
      "Epoch = 160   Overlap = 0.996628   observables={'Energy': (-8.9035 - 0.0002i) ± 0.0021 [var=0.0029, R=1.01128], '': None}\n",
      "Epoch = 170   Overlap = 0.994768   observables={'Energy': (-8.8972 + 0.0003i) ± 0.0052 [var=0.0089, R=1.02367], '': None}\n",
      "Epoch = 180   Overlap = 0.996769   observables={'Energy': (-8.9030 - 0.0008i) ± 0.0025 [var=0.0036, R=1.01369], '': None}\n",
      "Epoch = 190   Overlap = 0.994664   observables={'Energy': (-8.9002 + 0.0017i) ± 0.0049 [var=0.0067, R=1.02783], '': None}\n",
      "Epoch = 200   Overlap = 0.995297   observables={'Energy': (-8.9014 - 0.0003i) ± 0.0037 [var=0.0053, R=1.01907], '': None}\n",
      "Epoch = 210   Overlap = 0.994395   observables={'Energy': (-8.8972 + 0.0030i) ± 0.0044 [var=0.0094, R=1.01549], '': None}\n",
      "Epoch = 220   Overlap = 0.995317   observables={'Energy': (-8.9033 - 0.0049i) ± 0.0030 [var=0.0041, R=1.01666], '': None}\n",
      "Epoch = 230   Overlap = 0.996295   observables={'Energy': (-8.8945 + 0.0068i) ± 0.0077 [var=0.0076, R=1.05989], '': None}\n",
      "Epoch = 240   Overlap = 0.997837   observables={'Energy': (-8.9053 - 0.0018i) ± 0.0029 [var=0.0023, R=1.02898], '': None}\n",
      "Epoch = 250   Overlap = 0.998219   observables={'Energy': (-8.9019 + 0.0078i) ± 0.0052 [var=0.0059, R=1.03551], '': None}\n",
      "Epoch = 260   Overlap = 0.994726   observables={'Energy': (-8.890 + 0.009i) ± 0.013 [var=0.013, R=1.09917], '': None}\n",
      "Epoch = 270   Overlap = 0.996053   observables={'Energy': (-8.885 + 0.013i) ± 0.013 [var=0.014, R=1.08951], '': None}\n",
      "Epoch = 280   Overlap = 0.997044   observables={'Energy': (-8.888 + 0.013i) ± 0.014 [var=0.007, R=1.22473], '': None}\n",
      "Epoch = 290   Overlap = 0.997190   observables={'Energy': (-8.8939 + 0.0026i) ± 0.0098 [var=0.0074, R=1.09743], '': None}\n",
      "Epoch = 300   Overlap = 0.999083   observables={'Energy': (-8.9058 + 0.0015i) ± 0.0013 [var=0.0009, R=1.01511], '': None}\n",
      "Epoch = 310   Overlap = 0.999141   observables={'Energy': (-8.9065 - 0.0001i) ± 0.0014 [var=0.0007, R=1.02330], '': None}\n",
      "Epoch = 320   Overlap = 0.995886   observables={'Energy': (-8.9015 + 0.0005i) ± 0.0064 [var=0.0057, R=1.05404], '': None}\n",
      "Epoch = 330   Overlap = 0.998196   observables={'Energy': (-8.90667 + 0.00336i) ± 0.00067 [var=0.00083, R=1.00356], '': None}\n",
      "Epoch = 340   Overlap = 0.998966   observables={'Energy': (-8.9060 - 0.0007i) ± 0.0014 [var=0.0016, R=1.00818], '': None}\n",
      "Epoch = 350   Overlap = 0.999197   observables={'Energy': (-8.90640 + 0.00046i) ± 0.00070 [var=0.00096, R=1.00329], '': None}\n",
      "Epoch = 360   Overlap = 0.999249   observables={'Energy': (-8.90716 + 0.00033i) ± 0.00052 [var=0.00041, R=1.00445], '': None}\n",
      "Epoch = 370   Overlap = 0.994547   observables={'Energy': (-8.9066 - 0.0008i) ± 0.0050 [var=0.0057, R=1.03455], '': None}\n",
      "Epoch = 380   Overlap = 0.997815   observables={'Energy': (-8.9001 - 0.0002i) ± 0.0038 [var=0.0056, R=1.02015], '': None}\n",
      "Epoch = 390   Overlap = 0.999394   observables={'Energy': (-8.90697 - 0.00031i) ± 0.00051 [var=0.00036, R=1.00496], '': None}\n",
      "Epoch = 400   Overlap = 0.999397   observables={'Energy': (-8.90733 + 0.00023i) ± 0.00099 [var=0.00031, R=1.02382], '': None}\n",
      "Epoch = 410   Overlap = 0.999302   observables={'Energy': (-8.90562 + 0.00070i) ± 0.00057 [var=0.00095, R=1.00190], '': None}\n",
      "Epoch = 420   Overlap = 0.999487   observables={'Energy': (-8.90721 + 0.00066i) ± 0.00042 [var=0.00042, R=1.00258], '': None}\n",
      "Epoch = 430   Overlap = 0.998306   observables={'Energy': (-8.9051 - 0.0002i) ± 0.0026 [var=0.0018, R=1.02943], '': None}\n",
      "Epoch = 440   Overlap = 0.999228   observables={'Energy': (-8.9063 + 0.0002i) ± 0.0013 [var=0.0011, R=1.01184], '': None}\n",
      "Epoch = 450   Overlap = 0.999301   observables={'Energy': (-8.90691 + 0.00011i) ± 0.00058 [var=0.00120, R=1.00145], '': None}\n",
      "Epoch = 460   Overlap = 0.999321   observables={'Energy': (-8.9067 - 0.0002i) ± 0.0012 [var=0.0009, R=1.01139], '': None}\n",
      "Epoch = 470   Overlap = 0.999062   observables={'Energy': (-8.9064 - 0.0000i) ± 0.0020 [var=0.0006, R=1.04992], '': None}\n",
      "Epoch = 480   Overlap = 0.999381   observables={'Energy': (-8.9040 + 0.0001i) ± 0.0037 [var=0.0013, R=1.07644], '': None}\n",
      "Epoch = 490   Overlap = 0.999203   observables={'Energy': (-8.90572 + 0.00074i) ± 0.00051 [var=0.00110, R=1.00108], '': None}\n"
     ]
    }
   ],
   "source": [
    "# Training loop\n",
    "import re\n",
    "energy = []\n",
    "radii = []\n",
    "variance = []\n",
    "test = []\n",
    "epoch = []\n",
    "\n",
    "for ep in qst.iter(epochs, 10):\n",
    "    # Get energy measurement\n",
    "    obs = qst.get_observable_stats()\n",
    "    \n",
    "    #===============\n",
    "    splited = str(obs['Energy']).split(\" \")\n",
    "    energy.append(splited[1][2:])\n",
    "    radii.append(splited[6][2:9])\n",
    "    variance.append(splited[5][5:11])\n",
    "    test.append(re.findall(r\"[-+]?\\d*\\.\\d+|\\d+\", str(obs['Energy'])))\n",
    "    epoch.append(ep)\n",
    "    #==================\n",
    "    \n",
    "    # Compute fidelity with exact state\n",
    "    psima = ma.to_array()\n",
    "    overlap = np.abs(np.vdot(psima, psi0))\n",
    "    \n",
    "    print('Epoch = %d   ' % ep,end='')\n",
    "    print('Overlap = %.6f   '% overlap,end='')\n",
    "    print(\"observables={}\".format(obs))"
   ]
  },
  {
   "cell_type": "code",
   "execution_count": 16,
   "metadata": {},
   "outputs": [
    {
     "data": {
      "image/png": "[encoded data removed]",
      "text/plain": [
       "<Figure size 432x288 with 1 Axes>"
      ]
     },
     "metadata": {
      "needs_background": "light"
     },
     "output_type": "display_data"
    }
   ],
   "source": [
    "# plot \n",
    "x_val = []\n",
    "y_val = []\n",
    "var = []\n",
    "\n",
    "for data in range(len(test)):\n",
    "    y_val.append(float(test[data][0]))\n",
    "    x_val.append(float(test[data][4]))\n",
    "    var.append(float(test[data][3]))\n",
    "\n",
    "plt.plot(x_val, y_val,'ro')\n",
    "plt.xlabel('radii')\n",
    "plt.ylabel('energy')\n",
    "plt.title('Energy(radius)')\n",
    "plt.show()"
   ]
  },
  {
   "cell_type": "code",
   "execution_count": 21,
   "metadata": {},
   "outputs": [
    {
     "data": {
      "image/png": "[encoded data removed]",
      "text/plain": [
       "<Figure size 432x288 with 1 Axes>"
      ]
     },
     "metadata": {
      "needs_background": "light"
     },
     "output_type": "display_data"
    }
   ],
   "source": [
    "# Plot Energy VS Epochs\n",
    "\n",
    "plt.plot(epoch, y_val,'ro')\n",
    "plt.xlabel('Epochs')\n",
    "plt.ylabel('Energy')\n",
    "plt.title('Energy(Epochs)')\n",
    "plt.show()"
   ]
  },
  {
   "cell_type": "code",
   "execution_count": 25,
   "metadata": {},
   "outputs": [
    {
     "data": {
      "image/png": "[encoded data removed]",
      "text/plain": [
       "<Figure size 432x288 with 1 Axes>"
      ]
     },
     "metadata": {
      "needs_background": "light"
     },
     "output_type": "display_data"
    }
   ],
   "source": [
    "# Variance VS epochs \n",
    "\n",
    "plt.plot(epoch, var, 'ro')\n",
    "plt.xlabel('Epochs')\n",
    "plt.ylabel('Variance')\n",
    "plt.title('Energy(Variance)')\n",
    "plt.show()"
   ]
  },
  {
   "cell_type": "code",
   "execution_count": 26,
   "metadata": {},
   "outputs": [],
   "source": [
    "r_energy_dict = dict(zip(x_val, y_val))     "
   ]
  },
  {
   "cell_type": "code",
   "execution_count": 27,
   "metadata": {},
   "outputs": [],
   "source": [
    "from collections import OrderedDict \n",
    "\n",
    "ordered = OrderedDict(sorted(r_energy_dict.items()))\n",
    "\n",
    "r_ordered = list(ordered.keys())\n",
    "e_ordered = list(ordered.values())"
   ]
  },
  {
   "cell_type": "code",
   "execution_count": 28,
   "metadata": {},
   "outputs": [
    {
     "data": {
      "image/png": "[encoded data removed]",
      "text/plain": [
       "<Figure size 1080x360 with 1 Axes>"
      ]
     },
     "metadata": {
      "needs_background": "light"
     },
     "output_type": "display_data"
    }
   ],
   "source": [
    "from scipy.interpolate import UnivariateSpline,InterpolatedUnivariateSpline\n",
    "\n",
    "# print(len(r_ordered))\n",
    "# print(len(e_ordered))\n",
    "\n",
    "# print(r_ordered)\n",
    "# print(e_ordered)\n",
    "\n",
    "s = InterpolatedUnivariateSpline(r_ordered, e_ordered, k=1)\n",
    "xs = np.linspace(1, 10, 0)\n",
    "ys = s(xs)\n",
    "plt.figure(figsize=(15,5))\n",
    "plt.plot(r_ordered, e_ordered, label=\"Approximation\")\n",
    "plt.plot(r_ordered, e_ordered, 'o', label='Data points')\n",
    "plt.plot(xs, ys)\n",
    "plt.legend()\n",
    "plt.show()"
   ]
  },
  {
   "cell_type": "code",
   "execution_count": null,
   "metadata": {},
   "outputs": [],
   "source": []
  }
 ],
 "metadata": {
  "kernelspec": {
   "display_name": "Python 3",
   "language": "python",
   "name": "python3"
  }
 },
 "nbformat": 4,
 "nbformat_minor": 2
}
