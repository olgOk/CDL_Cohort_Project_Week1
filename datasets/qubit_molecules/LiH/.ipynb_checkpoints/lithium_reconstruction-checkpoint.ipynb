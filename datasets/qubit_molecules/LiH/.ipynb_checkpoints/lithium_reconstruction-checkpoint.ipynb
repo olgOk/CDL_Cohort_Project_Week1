{
 "cells": [
  {
   "cell_type": "markdown",
   "metadata": {},
   "source": [
    "# Qubit-data for Lithium Hydride"
   ]
  },
  {
   "cell_type": "code",
   "execution_count": 1,
   "metadata": {},
   "outputs": [],
   "source": [
    "import pickle\n",
    "from pylab import *\n",
    "import numpy as np\n",
    "import math as m\n",
    "from functools import reduce\n",
    "import matplotlib.pyplot as plt"
   ]
  },
  {
   "cell_type": "markdown",
   "metadata": {},
   "source": [
    "## Preliminaries"
   ]
  },
  {
   "cell_type": "markdown",
   "metadata": {},
   "source": [
    "The fermionic Hamiltonian in second quantization (with $M$ orbitals)\n",
    "\n",
    "$$ H = \\sum_{\\alpha,\\beta=1}^M t_{\\alpha\\beta}c^\\dagger_\\alpha c_\\beta \n",
    "+ \\frac{1}{2}\\sum_{\\alpha\\beta=1}^M\\sum_{\\gamma\\delta=1}^M u_{\\alpha\\beta\\gamma\\delta}c^\\dagger_\\alpha c^\\dagger_\\gamma c_\\delta c_\\beta$$\n",
    "\n",
    "is mapped into a qubit Hamiltonian in the form\n",
    "\n",
    "$$ H = \\sum_kc_kP_k $$\n",
    "\n",
    "where $c_k$ are interaction coefficients and $P_k$ are elements of the $N$-qubit Pauli group $\\mathcal{P}_N=\\{\\mathbb{1},X,Y,Z\\}^{\\otimes N}$.\n",
    "\n",
    "The interaction coefficients and the Pauli operators can be found in the `interaction.file` and the `pauli.file` respectively.\n",
    "\n",
    "Specifics:\n",
    "- Number of qubits: 4\n",
    "- Molecule geometry: bond distance\n",
    "- Fermionic basis: atomic STO-3G\n",
    "- Qubit mapping: spin-parity"
   ]
  },
  {
   "cell_type": "markdown",
   "metadata": {},
   "source": [
    "## Exact diagonalization"
   ]
  },
  {
   "cell_type": "code",
   "execution_count": 2,
   "metadata": {},
   "outputs": [],
   "source": [
    "# Identity \n",
    "I = np.asarray([[1.,0.],[0.,1.]])\n",
    "# Pauli X\n",
    "X = np.asarray([[0.,1.],[1.,0.]])\n",
    "# Pauli Y\n",
    "Y = np.asarray([[0.,-1j],[1j,0.]])\n",
    "# Pauli Z\n",
    "Z = np.asarray([[1.,0.],[0.,-1.]])"
   ]
  },
  {
   "cell_type": "code",
   "execution_count": 3,
   "metadata": {},
   "outputs": [],
   "source": [
    "def operatorfromstring(pauli_string):\n",
    "    \"\"\"\n",
    "    Generate a many-body operator from a list of single-qubit \n",
    "    pauli matrices.\n",
    "    ---------------------------------------------------------\n",
    "    Input    pauli_string: str , (ex: [X,Z,X,Y,...])\n",
    "    \n",
    "    Output   pauli_op: np.array, shape = [2**N,2**N]\n",
    "    \"\"\"\n",
    "    op_list = []\n",
    "    for k in range(len(pauli_string)):\n",
    "        if (pauli_string[k] == 'X'):\n",
    "            op_list.append(X)\n",
    "        elif (pauli_string[k] == 'Y'):\n",
    "            op_list.append(Y)\n",
    "        elif (pauli_string[k] == 'Z'):\n",
    "            op_list.append(Z)\n",
    "        else:\n",
    "            op_list.append(I)\n",
    "\n",
    "    return reduce(np.kron,op_list)\n",
    "\n",
    "def hamiltonian(pauli_list,interactions):\n",
    "    \"\"\"\n",
    "    Generate a many-body hamiltonian\n",
    "    ---------------------------------------------------------\n",
    "    Input    pauli_list: list of pauli strings\n",
    "             interactions: list of interaction strengths\n",
    "    \n",
    "    Output   hamiltonian: np.array, shape = [2**N,2**N]\n",
    "    \"\"\"\n",
    "    N = len(pauli_list[0])\n",
    "    hamiltonian = np.zeros((1<<N,1<<N),dtype=complex)\n",
    "    for i,pauli in enumerate(pauli_list):\n",
    "        hamiltonian += interactions[i]*operatorfromstring(pauli)\n",
    "    return hamiltonian\n",
    "\n",
    "def eigensolve(hamiltonian):\n",
    "    \"\"\"\n",
    "    Compute ground state energy and wavefunction\n",
    "    \"\"\"\n",
    "    (eigenvalues,eigenstates) = np.linalg.eigh(hamiltonian)\n",
    "    return eigenvalues[0],eigenstates[:,0]"
   ]
  },
  {
   "cell_type": "code",
   "execution_count": 4,
   "metadata": {},
   "outputs": [
    {
     "name": "stdout",
     "output_type": "stream",
     "text": [
      "Pauli: IIII  | Interaction: -8.022E+00\n",
      "Pauli: ZIII  | Interaction: -9.276E-02\n",
      "Pauli: XZII  | Interaction: -2.941E-03\n",
      "Pauli: XIII  | Interaction: 2.941E-03\n",
      "Pauli: ZZII  | Interaction: -2.119E-01\n",
      "Pauli: YYII  | Interaction: 7.428E-04\n",
      "Pauli: XXII  | Interaction: -7.428E-04\n",
      "Pauli: ZXII  | Interaction: 1.939E-02\n",
      "Pauli: IXII  | Interaction: 1.939E-02\n",
      "Pauli: IZII  | Interaction: 3.653E-01\n",
      "...\n"
     ]
    }
   ],
   "source": [
    "pauli_list   = np.load('paulis.file',allow_pickle=True)\n",
    "interactions = np.load('interactions.file',allow_pickle = True)\n",
    "for k in range(10):\n",
    "    print('Pauli:',pauli_list[k],' | Interaction: %.3E' % interactions[k])\n",
    "print('...')"
   ]
  },
  {
   "cell_type": "code",
   "execution_count": 5,
   "metadata": {},
   "outputs": [
    {
     "name": "stdout",
     "output_type": "stream",
     "text": [
      "Ground state energy: -8.9073963113\n",
      "\n",
      "Ground state wavefunction:\n",
      "\n",

      " [-4.96394908e-03+0.j  2.49800181e-16+0.j -5.76276175e-02+0.j\n",

      "  1.11651339e-01+0.j -3.26381702e-02+0.j  5.08356315e-16+0.j\n",
      "  3.54539651e-02+0.j -5.76276175e-02+0.j  1.38777878e-16+0.j\n",
      "  1.23592416e-25+0.j  5.01265465e-18+0.j -1.14084922e-17+0.j\n",
      " -9.88663405e-01+0.j -2.63778775e-17+0.j -3.26381702e-02+0.j\n",
      " -4.96394908e-03+0.j]\n"
     ]
    }
   ],
   "source": [
    "# Build the full Hamiltonian and get the ground state energy / wavefunction\n",
    "H = hamiltonian(pauli_list,interactions)\n",
    "E0,psi0 = eigensolve(H)\n",
    "print('Ground state energy: %.10f\\n' % E0 )\n",
    "print('Ground state wavefunction:\\n\\n',psi0)"
   ]
  },
  {
   "cell_type": "markdown",
   "metadata": {},
   "source": [
    " ## Neural-network reconstruction"
   ]
  },
  {
   "cell_type": "markdown",
   "metadata": {},
   "source": [
    "Quantum state reconstruction of the LiH ground state with a restricted Boltzmann machine, using the NetKet library.\n",
    "\n",
    "References:\n",
    "- _\"Machine learning quantum states in the NISQ era\"_ : review of quantum state reconstruction with restricted Boltzmann machines. https://arxiv.org/abs/1905.04312\n",
    "- _\"Precise measurement of quantum observables with neural-network estimators\"_ RBM reconstruction of molecular ground states. https://arxiv.org/abs/1910.07596\n",
    "- _\"NetKet: A Machine Learning Toolkit for Many-Body Quantum Systems\"_ Overview of the NetKet software library. https://arxiv.org/abs/1904.00031"
   ]
  },
  {
   "cell_type": "code",
   "execution_count": 6,
   "metadata": {},
   "outputs": [],
   "source": [
    "from mpi4py import MPI \n",
    "import netket as nk"
   ]
  },
  {
   "cell_type": "code",
   "execution_count": 7,
   "metadata": {},
   "outputs": [],
   "source": [
    "# Unitary matrices for the rotation in the X and Y bases\n",
    "rotationX = 1./(math.sqrt(2))*np.asarray([[1.,1.],[1.,-1.]])\n",
    "rotationY= 1./(math.sqrt(2))*np.asarray([[1.,-1j],[1.,1j]])\n",
    "\n",
    "def LoadData(N,hilbert,path_to_samples, path_to_bases):\n",
    "    training_samples = []\n",
    "    training_bases = []\n",
    "\n",
    "    tsamples = np.loadtxt(path_to_samples)\n",
    "    assert(N == tsamples.shape[1])\n",
    "    fin_bases = open(path_to_bases, 'r')\n",
    "    lines = fin_bases.readlines()\n",
    "\n",
    "    bases = []\n",
    "\n",
    "    for b in lines:\n",
    "        basis = \"\"\n",
    "        assert(len(b) == N + 1)\n",
    "        for j in range(N):\n",
    "            basis += b[j]\n",
    "        bases.append(basis)\n",
    "    index_list = sorted(range(len(bases)), key=lambda k: bases[k])\n",
    "    bases.sort()\n",
    "\n",
    "    for i in range(len(tsamples)):\n",
    "        training_samples.append(tsamples[index_list[i]].tolist())\n",
    "\n",
    "    rotations = []\n",
    "\n",
    "    tmp = ''\n",
    "    b_index = -1\n",
    "    for b in bases:\n",
    "        if (b != tmp):\n",
    "            tmp = b\n",
    "            localop = nk.operator.LocalOperator(hilbert, 1.0)\n",
    "\n",
    "            for j in range(N):\n",
    "                if (tmp[j] == 'X'):\n",
    "                    localop *= nk.operator.LocalOperator(hilbert, rotationX, [j])\n",
    "                if (tmp[j] == 'Y'):\n",
    "                    localop *= nk.operator.LocalOperator(hilbert, rotationY, [j])\n",
    "\n",
    "            rotations.append(localop)\n",
    "            b_index += 1\n",
    "        training_bases.append(b_index)\n",
    "\n",
    "    return tuple(rotations), np.asarray(training_samples), np.asarray(training_bases)\n",
    "\n",
    "def OperatorFromString(op_string):                                                \n",
    "    OpList = []                                                                   \n",
    "    Sites = []                                                                    \n",
    "    for k in range(len(op_string)):                                               \n",
    "        if (op_string[k] == 'X'):                                                 \n",
    "            OpList.append(X)                                                      \n",
    "            Sites.append(k)                                                       \n",
    "        elif (op_string[k] == 'Y'):                                               \n",
    "            OpList.append(Y)                                                      \n",
    "            Sites.append(k)                                                       \n",
    "        elif (op_string[k] == 'Z'):                                               \n",
    "            OpList.append(Z)                                                      \n",
    "            Sites.append(k)                                                       \n",
    "    return Sites,reduce(np.kron,OpList) \n",
    "\n",
    "def BuildHamiltonian(N,hilbert,pauli_path,interactions_path):                     \n",
    "    pauli = np.load(pauli_path,allow_pickle=True)                                 \n",
    "    interactions = np.load(interactions_path,allow_pickle=True)                   \n",
    "                                                                                  \n",
    "    hamiltonian = nk.operator.LocalOperator(hilbert, 0.0)                                                                                 \n",
    "    for h in range(0,len(pauli)):                                                                                           \n",
    "        flag = 0                                                                  \n",
    "        for j in range(N):                                                        \n",
    "            if (pauli[h][j]!='I'): flag = 1; break                                \n",
    "        if flag == 0:                                                             \n",
    "            hamiltonian += nk.operator.LocalOperator(hilbert,np.real(interactions[h]))\n",
    "        else:                                                                     \n",
    "            sites,operator = OperatorFromString(pauli[h])                         \n",
    "            h_term = interactions[h]*operator\n",
    "            hamiltonian += nk.operator.LocalOperator(hilbert,h_term,sites)        \n",
    "            \n",
    "    return hamiltonian "
   ]
  },
  {
   "cell_type": "code",
   "execution_count": 8,
   "metadata": {},
   "outputs": [],
   "source": [
    "N = 4          # Number of qubits\n",
    "ns = 100000    # Number of training samples\n",
    "lr = 0.01      # Learning rate\n",
    "M = 10000      # Number of samples for the negative CD phase\n",
    "bs = 1000      # Batch size\n",
    "epochs = 500   # Epochs\n",
    "\n",
    "samples_path = \"train_samples.txt\"\n",
    "bases_path = \"train_bases.txt\"\n",
    "pauli_path = \"paulis.file\"\n",
    "interactions_path = \"interactions.file\""
   ]
  },
  {
   "cell_type": "code",
   "execution_count": 9,
   "metadata": {},
   "outputs": [],
   "source": [
    "# Lattice\n",
    "graph = nk.graph.Hypercube(length=N, n_dim=1,pbc=False)\n",
    "# Hilbert space\n",
    "hilbert = nk.hilbert.Qubit(graph=graph)\n",
    "# NetKet Hamiltonian\n",
    "hamiltonian = BuildHamiltonian(N,hilbert,pauli_path,interactions_path)"
   ]
  },
  {
   "cell_type": "code",
   "execution_count": 10,
   "metadata": {},
   "outputs": [],
   "source": [
    "# Load training data\n",
    "rotations, tr_samples, tr_bases = LoadData(N,hilbert,samples_path, bases_path)\n",
    "if (ns > tr_samples.shape[0]):\n",
    "    \"Not enough training samples\"\n",
    "else:\n",
    "    training_samples = tr_samples[0:ns]\n",
    "    training_bases   = tr_bases[0:ns]"
   ]
  },
  {
   "cell_type": "code",
   "execution_count": 11,
   "metadata": {},
   "outputs": [],
   "source": [
    "# RBM wavefunction\n",

    "#ma = nk.machine.RbmSpinPhase(hilbert=hilbert, alpha=1)  # Real-weights RBM (amplitude + phase)\n",

    "ma = nk.machine.RbmSpin(hilbert=hilbert, alpha=1)        # Complex-weights RBM, alpha=num_hidden/N\n",
    "ma.init_random_parameters(seed=1234, sigma=0.01)"
   ]
  },
  {
   "cell_type": "code",
   "execution_count": 12,
   "metadata": {},
   "outputs": [],
   "source": [
    "# Sampler\n",
    "sa = nk.sampler.MetropolisLocal(machine=ma)\n",
    "\n",
    "# Optimizer + Stochastic Reconfiguration\n",
    "#op = nk.optimizer.Sgd(learning_rate=lr)\n",
    "op = nk.optimizer.RmsProp(learning_rate=lr,beta=0.9,epscut = 1.0e-6)\n",
    "sr = nk.optimizer.SR(diag_shift=0.1)"
   ]
  },
  {
   "cell_type": "code",
   "execution_count": 13,
   "metadata": {},

   "outputs": [],

   "source": [
    "# Quantum state tomography object\n",
    "qst = nk.Qsr(\n",
    "    sampler=sa,\n",
    "    optimizer=op,\n",
    "    samples=training_samples,\n",
    "    rotations=rotations,\n",
    "    bases=training_bases,\n",
    "    n_samples=M,\n",
    "    n_samples_data=bs,\n",
    "    sr=sr,\n",
    "    #sr=None\n",
    ")\n",
    "# Measure the energy while training\n",
    "qst.add_observable(hamiltonian, \"Energy\")"
   ]
  },
  {
   "cell_type": "code",
   "execution_count": 14,
   "metadata": {},
   "outputs": [
    {

     "name": "stdout",
     "output_type": "stream",
     "text": [
      "Epoch = 10   Overlap = 0.327257   observables={'Energy': (-8.0233 - 0.0000i) ± 0.0062 [var=0.5156, R=0.99979]}\n",
      "Epoch = 20   Overlap = 0.376776   observables={'Energy': (-8.0692 + 0.0003i) ± 0.0076 [var=0.5423, R=1.00005]}\n",
      "Epoch = 30   Overlap = 0.428146   observables={'Energy': (-8.1155 + 0.0007i) ± 0.0080 [var=0.5612, R=1.00011]}\n",
      "Epoch = 40   Overlap = 0.491451   observables={'Energy': (-8.1778 + 0.0009i) ± 0.0063 [var=0.5494, R=0.99978]}\n",
      "Epoch = 50   Overlap = 0.564125   observables={'Energy': (-8.2760 - 0.0002i) ± 0.0079 [var=0.5185, R=1.00017]}\n",
      "Epoch = 60   Overlap = 0.665552   observables={'Energy': (-8.3761 + 0.0020i) ± 0.0094 [var=0.4770, R=1.00067]}\n",
      "Epoch = 70   Overlap = 0.763417   observables={'Energy': (-8.5273 - 0.0009i) ± 0.0095 [var=0.3850, R=1.00109]}\n",
      "Epoch = 80   Overlap = 0.855221   observables={'Energy': (-8.6480 + 0.0010i) ± 0.0069 [var=0.2699, R=1.00061]}\n",
      "Epoch = 90   Overlap = 0.916431   observables={'Energy': (-8.7575 + 0.0007i) ± 0.0077 [var=0.1559, R=1.00221]}\n",
      "Epoch = 100   Overlap = 0.951151   observables={'Energy': (-8.8152 - 0.0004i) ± 0.0087 [var=0.0960, R=1.00551]}\n",
      "Epoch = 110   Overlap = 0.963635   observables={'Energy': (-8.822 - 0.003i) ± 0.020 [var=0.097, R=1.03089]}\n",
      "Epoch = 120   Overlap = 0.959087   observables={'Energy': (-8.8629 + 0.0084i) ± 0.0050 [var=0.0200, R=1.00934]}\n",
      "Epoch = 130   Overlap = 0.974665   observables={'Energy': (-8.8607 + 0.0016i) ± 0.0083 [var=0.0435, R=1.01194]}\n",
      "Epoch = 140   Overlap = 0.982254   observables={'Energy': (-8.8737 - 0.0034i) ± 0.0096 [var=0.0349, R=1.02035]}\n",
      "Epoch = 150   Overlap = 0.986361   observables={'Energy': (-8.885 + 0.001i) ± 0.010 [var=0.022, R=1.03725]}\n",
      "Epoch = 160   Overlap = 0.991018   observables={'Energy': (-8.888 - 0.004i) ± 0.010 [var=0.019, R=1.04179]}\n",
      "Epoch = 170   Overlap = 0.993444   observables={'Energy': (-8.8989 + 0.0046i) ± 0.0038 [var=0.0068, R=1.01577]}\n",
      "Epoch = 180   Overlap = 0.995299   observables={'Energy': (-8.9012 + 0.0031i) ± 0.0042 [var=0.0061, R=1.02196]}\n",
      "Epoch = 190   Overlap = 0.994232   observables={'Energy': (-8.9027 + 0.0045i) ± 0.0065 [var=0.0063, R=1.05135]}\n",
      "Epoch = 200   Overlap = 0.997021   observables={'Energy': (-8.9041 + 0.0057i) ± 0.0020 [var=0.0034, R=1.00830]}\n",
      "Epoch = 210   Overlap = 0.996943   observables={'Energy': (-8.9088 + 0.0043i) ± 0.0019 [var=0.0021, R=1.01241]}\n",
      "Epoch = 220   Overlap = 0.998480   observables={'Energy': (-8.9053 + 0.0012i) ± 0.0013 [var=0.0021, R=1.00586]}\n",
      "Epoch = 230   Overlap = 0.998087   observables={'Energy': (-8.90391 + 0.00126i) ± 0.00084 [var=0.00404, R=1.00059]}\n",
      "Epoch = 240   Overlap = 0.998531   observables={'Energy': (-8.8986 - 0.0055i) ± 0.0039 [var=0.0055, R=1.02063]}\n",
      "Epoch = 250   Overlap = 0.999184   observables={'Energy': (-8.90649 + 0.00028i) ± 0.00050 [var=0.00036, R=1.00475]}\n",
      "Epoch = 260   Overlap = 0.998960   observables={'Energy': (-8.90636 - 0.00170i) ± 0.00099 [var=0.00122, R=1.00555]}\n",
      "Epoch = 270   Overlap = 0.998730   observables={'Energy': (-8.9035 + 0.0006i) ± 0.0020 [var=0.0022, R=1.01338]}\n",
      "Epoch = 280   Overlap = 0.999141   observables={'Energy': (-8.9026 + 0.0016i) ± 0.0025 [var=0.0022, R=1.02143]}\n",
      "Epoch = 290   Overlap = 0.997833   observables={'Energy': (-8.9052 - 0.0003i) ± 0.0019 [var=0.0052, R=1.00494]}\n",
      "Epoch = 300   Overlap = 0.999170   observables={'Energy': (-8.9060 + 0.0010i) ± 0.0013 [var=0.0030, R=1.00340]}\n",
      "Epoch = 310   Overlap = 0.998943   observables={'Energy': (-8.9060 - 0.0001i) ± 0.0011 [var=0.0016, R=1.00475]}\n",
      "Epoch = 320   Overlap = 0.998417   observables={'Energy': (-8.9008 - 0.0011i) ± 0.0028 [var=0.0043, R=1.01431]}\n",
      "Epoch = 330   Overlap = 0.998897   observables={'Energy': (-8.9070 - 0.0000i) ± 0.0014 [var=0.0009, R=1.01581]}\n",
      "Epoch = 340   Overlap = 0.999499   observables={'Energy': (-8.9070 + 0.0000i) ± 0.0020 [var=0.0011, R=1.02857]}\n",
      "Epoch = 350   Overlap = 0.999104   observables={'Energy': (-8.9032 + 0.0003i) ± 0.0023 [var=0.0032, R=1.01238]}\n",
      "Epoch = 360   Overlap = 0.998945   observables={'Energy': (-8.9068 - 0.0015i) ± 0.0018 [var=0.0030, R=1.00795]}\n",
      "Epoch = 370   Overlap = 0.996236   observables={'Energy': (-8.9139 + 0.0036i) ± 0.0015 [var=0.0011, R=1.01604]}\n",
      "Epoch = 380   Overlap = 0.998327   observables={'Energy': (-8.9069 + 0.0018i) ± 0.0019 [var=0.0019, R=1.01344]}\n",
      "Epoch = 390   Overlap = 0.999449   observables={'Energy': (-8.90660 + 0.00064i) ± 0.00049 [var=0.00063, R=1.00231]}\n",
      "Epoch = 400   Overlap = 0.999233   observables={'Energy': (-8.9082 - 0.0010i) ± 0.0028 [var=0.0017, R=1.03676]}\n",
      "Epoch = 410   Overlap = 0.999122   observables={'Energy': (-8.8982 - 0.0022i) ± 0.0031 [var=0.0037, R=1.01918]}\n",
      "Epoch = 420   Overlap = 0.998911   observables={'Energy': (-8.9075 - 0.0000i) ± 0.0027 [var=0.0014, R=1.04236]}\n",
      "Epoch = 430   Overlap = 0.999436   observables={'Energy': (-8.9067 - 0.0020i) ± 0.0011 [var=0.0014, R=1.00602]}\n",
      "Epoch = 440   Overlap = 0.999391   observables={'Energy': (-8.90716 - 0.00016i) ± 0.00062 [var=0.00053, R=1.00499]}\n",
      "Epoch = 450   Overlap = 0.999413   observables={'Energy': (-8.90676 + 0.00020i) ± 0.00062 [var=0.00111, R=1.00194]}\n",
      "Epoch = 460   Overlap = 0.998248   observables={'Energy': (-8.8970 - 0.0041i) ± 0.0052 [var=0.0067, R=1.03108]}\n",
      "Epoch = 470   Overlap = 0.998806   observables={'Energy': (-8.9039 - 0.0014i) ± 0.0030 [var=0.0024, R=1.02853]}\n",
      "Epoch = 480   Overlap = 0.999014   observables={'Energy': (-8.9072 - 0.0049i) ± 0.0027 [var=0.0040, R=1.01337]}\n",
      "Epoch = 490   Overlap = 0.998935   observables={'Energy': (-8.9056 + 0.0011i) ± 0.0022 [var=0.0020, R=1.01776]}\n",
      "Epoch = 500   Overlap = 0.999349   observables={'Energy': (-8.90714 + 0.00028i) ± 0.00092 [var=0.00156, R=1.00353]}\n"
=======
     "name": "stderr",
     "output_type": "stream",
     "text": [
      "/Users/user/opt/anaconda3/lib/python3.7/site-packages/ipykernel_launcher.py:10: FutureWarning: Call to deprecated function 'get_observable_stats'\n",
      "  # Remove the CWD from sys.path while we load stuff.\n"
     ]
    },
    {
     "name": "stdout",
     "output_type": "stream",
     "text": [
      "Epoch = 0   Overlap = 0.259903   observables={'Energy': (-7.968 + 0.000i) ± 0.011 [var=0.498, R=1.00115], '': None}\n"
     ]
    },
    {
     "name": "stderr",
     "output_type": "stream",
     "text": [
      "/Users/user/opt/anaconda3/lib/python3.7/site-packages/ipykernel_launcher.py:10: FutureWarning: Call to deprecated function 'get_observable_stats'\n",
      "  # Remove the CWD from sys.path while we load stuff.\n"
     ]
    },
    {
     "name": "stdout",
     "output_type": "stream",
     "text": [
      "Epoch = 10   Overlap = 0.328083   observables={'Energy': (-8.0379 + 0.0000i) ± 0.0063 [var=0.5150, R=0.99982], '': None}\n",
      "Epoch = 20   Overlap = 0.385253   observables={'Energy': (-8.1062 - 0.0002i) ± 0.0063 [var=0.5211, R=0.99981], '': None}\n",
      "Epoch = 30   Overlap = 0.453458   observables={'Energy': (-8.1660 + 0.0005i) ± 0.0074 [var=0.5159, R=1.00005], '': None}\n",
      "Epoch = 40   Overlap = 0.531332   observables={'Energy': (-8.2374 + 0.0003i) ± 0.0074 [var=0.5295, R=1.00003], '': None}\n",
      "Epoch = 50   Overlap = 0.618273   observables={'Energy': (-8.3519 + 0.0000i) ± 0.0097 [var=0.4641, R=1.00082], '': None}\n",
      "Epoch = 60   Overlap = 0.704729   observables={'Energy': (-8.4487 + 0.0003i) ± 0.0055 [var=0.4227, R=0.99977], '': None}\n",
      "Epoch = 70   Overlap = 0.797660   observables={'Energy': (-8.5796 - 0.0001i) ± 0.0089 [var=0.3362, R=1.00108], '': None}\n",
      "Epoch = 80   Overlap = 0.876540   observables={'Energy': (-8.705 + 0.001i) ± 0.010 [var=0.210, R=1.00307], '': None}\n",
      "Epoch = 90   Overlap = 0.926359   observables={'Energy': (-8.7960 - 0.0015i) ± 0.0095 [var=0.1062, R=1.00591], '': None}\n",
      "Epoch = 100   Overlap = 0.953837   observables={'Energy': (-8.8130 + 0.0000i) ± 0.0097 [var=0.0980, R=1.00679], '': None}\n",
      "Epoch = 110   Overlap = 0.967837   observables={'Energy': (-8.847 + 0.000i) ± 0.012 [var=0.059, R=1.01703], '': None}\n",
      "Epoch = 120   Overlap = 0.967431   observables={'Energy': (-8.858 - 0.005i) ± 0.010 [var=0.035, R=1.02278], '': None}\n",
      "Epoch = 130   Overlap = 0.975963   observables={'Energy': (-8.8660 - 0.0018i) ± 0.0090 [var=0.0334, R=1.01834], '': None}\n",
      "Epoch = 140   Overlap = 0.976105   observables={'Energy': (-8.866 - 0.002i) ± 0.012 [var=0.032, R=1.03266], '': None}\n",
      "Epoch = 150   Overlap = 0.975813   observables={'Energy': (-8.845 + 0.012i) ± 0.019 [var=0.065, R=1.04374], '': None}\n",
      "Epoch = 160   Overlap = 0.977407   observables={'Energy': (-8.859 + 0.003i) ± 0.020 [var=0.045, R=1.06897], '': None}\n",
      "Epoch = 170   Overlap = 0.982599   observables={'Energy': (-8.846 + 0.026i) ± 0.030 [var=0.059, R=1.11480], '': None}\n",
      "Epoch = 180   Overlap = 0.988011   observables={'Energy': (-8.89612 - 0.01147i) ± 0.00016 [var=0.00026, R=0.99994], '': None}\n",
      "Epoch = 190   Overlap = 0.985778   observables={'Energy': (-8.8977 - 0.0129i) ± 0.0019 [var=0.0048, R=1.00510], '': None}\n",
      "Epoch = 200   Overlap = 0.988872   observables={'Energy': (-8.879 + 0.007i) ± 0.016 [var=0.025, R=1.07487], '': None}\n",
      "Epoch = 210   Overlap = 0.991952   observables={'Energy': (-8.8918 - 0.0006i) ± 0.0055 [var=0.0150, R=1.01534], '': None}\n",
      "Epoch = 220   Overlap = 0.992822   observables={'Energy': (-8.8895 + 0.0043i) ± 0.0097 [var=0.0152, R=1.04805], '': None}\n",
      "Epoch = 230   Overlap = 0.996013   observables={'Energy': (-8.9005 - 0.0007i) ± 0.0049 [var=0.0062, R=1.02977], '': None}\n",
      "Epoch = 240   Overlap = 0.995842   observables={'Energy': (-8.9003 + 0.0014i) ± 0.0051 [var=0.0068, R=1.02961], '': None}\n",
      "Epoch = 250   Overlap = 0.997168   observables={'Energy': (-8.9017 + 0.0024i) ± 0.0040 [var=0.0045, R=1.02768], '': None}\n",
      "Epoch = 260   Overlap = 0.995272   observables={'Energy': (-8.9001 + 0.0002i) ± 0.0056 [var=0.0066, R=1.03689], '': None}\n",
      "Epoch = 270   Overlap = 0.997990   observables={'Energy': (-8.9052 - 0.0010i) ± 0.0014 [var=0.0016, R=1.00876], '': None}\n",
      "Epoch = 280   Overlap = 0.997834   observables={'Energy': (-8.9033 - 0.0008i) ± 0.0026 [var=0.0033, R=1.01488], '': None}\n",
      "Epoch = 290   Overlap = 0.997864   observables={'Energy': (-8.9039 - 0.0008i) ± 0.0014 [var=0.0032, R=1.00388], '': None}\n",
      "Epoch = 300   Overlap = 0.997834   observables={'Energy': (-8.9056 - 0.0004i) ± 0.0020 [var=0.0030, R=1.01033], '': None}\n",
      "Epoch = 310   Overlap = 0.998818   observables={'Energy': (-8.90425 - 0.00048i) ± 0.00022 [var=0.00073, R=0.99974], '': None}\n",
      "Epoch = 320   Overlap = 0.998653   observables={'Energy': (-8.90581 + 0.00031i) ± 0.00059 [var=0.00118, R=1.00156], '': None}\n",
      "Epoch = 330   Overlap = 0.997616   observables={'Energy': (-8.9055 + 0.0006i) ± 0.0025 [var=0.0025, R=1.01834], '': None}\n",
      "Epoch = 340   Overlap = 0.998523   observables={'Energy': (-8.9046 - 0.0010i) ± 0.0016 [var=0.0021, R=1.00848], '': None}\n",
      "Epoch = 350   Overlap = 0.998519   observables={'Energy': (-8.9058 + 0.0002i) ± 0.0016 [var=0.0018, R=1.01078], '': None}\n",
      "Epoch = 360   Overlap = 0.998026   observables={'Energy': (-8.9054 + 0.0006i) ± 0.0016 [var=0.0036, R=1.00480], '': None}\n",
      "Epoch = 370   Overlap = 0.999261   observables={'Energy': (-8.90642 + 0.00017i) ± 0.00053 [var=0.00079, R=1.00202], '': None}\n",
      "Epoch = 380   Overlap = 0.998993   observables={'Energy': (-8.90515 - 0.00054i) ± 0.00083 [var=0.00192, R=1.00205], '': None}\n",
      "Epoch = 390   Overlap = 0.998085   observables={'Energy': (-8.9066 + 0.0018i) ± 0.0013 [var=0.0021, R=1.00609], '': None}\n",
      "Epoch = 400   Overlap = 0.998662   observables={'Energy': (-8.9045 - 0.0001i) ± 0.0024 [var=0.0026, R=1.01690], '': None}\n",
      "Epoch = 410   Overlap = 0.997670   observables={'Energy': (-8.9041 - 0.0000i) ± 0.0035 [var=0.0031, R=1.03084], '': None}\n",
      "Epoch = 420   Overlap = 0.997485   observables={'Energy': (-8.8900 - 0.0109i) ± 0.0084 [var=0.0103, R=1.05298], '': None}\n",
      "Epoch = 430   Overlap = 0.999050   observables={'Energy': (-8.90522 + 0.00264i) ± 0.00045 [var=0.00091, R=1.00101], '': None}\n",
      "Epoch = 440   Overlap = 0.999282   observables={'Energy': (-8.9071 + 0.0005i) ± 0.0018 [var=0.0008, R=1.03120], '': None}\n",
      "Epoch = 450   Overlap = 0.998883   observables={'Energy': (-8.9064 + 0.0011i) ± 0.0011 [var=0.0013, R=1.00703], '': None}\n",
      "Epoch = 460   Overlap = 0.998728   observables={'Energy': (-8.9054 - 0.0006i) ± 0.0016 [var=0.0015, R=1.01222], '': None}\n",
      "Epoch = 470   Overlap = 0.999490   observables={'Energy': (-8.90725 - 0.00004i) ± 0.00068 [var=0.00037, R=1.00925], '': None}\n",
      "Epoch = 480   Overlap = 0.999219   observables={'Energy': (-8.9057 + 0.0001i) ± 0.0015 [var=0.0020, R=1.00821], '': None}\n",
      "Epoch = 490   Overlap = 0.999017   observables={'Energy': (-8.9045 - 0.0011i) ± 0.0024 [var=0.0017, R=1.02604], '': None}\n"

     ]
    }
   ],
   "source": [
    "# Training loop\n",

    "for ep in qst.iter(epochs, 10):\n",
    "    # Get energy measurement\n",
    "    obs = qst.get_observable_stats()\n",
    "    # Compute fidelity with exact state\n",
    "    psima = ma.to_array()\n",
    "    overlap = np.abs(np.vdot(psima, psi0))\n",
    "\n",

    "import re\n",
    "energy = []\n",
    "radii = []\n",
    "variance = []\n",
    "test = []\n",
    "\n",
    "for ep in qst.iter(epochs, 10):\n",
    "    # Get energy measurement\n",
    "    obs = qst.get_observable_stats()\n",
    "    \n",
    "    #===============\n",
    "    splited = str(obs['Energy']).split(\" \")\n",
    "    energy.append(splited[1][2:])\n",
    "    radii.append(splited[6][2:9])\n",
    "    variance.append(splited[5][5:11])\n",
    "    test.append(re.findall(r\"[-+]?\\d*\\.\\d+|\\d+\", str(obs['Energy'])))\n",
    "#     print(splited)\n",
    "    #==================\n",
    "    \n",
    "    # Compute fidelity with exact state\n",
    "    psima = ma.to_array()\n",
    "    overlap = np.abs(np.vdot(psima, psi0))\n",
    "    \n",

    "    print('Epoch = %d   ' % ep,end='')\n",
    "    print('Overlap = %.6f   '% overlap,end='')\n",
    "    print(\"observables={}\".format(obs))"
   ]
  },
  {
   "cell_type": "code",

   "execution_count": 42,
   "metadata": {},
   "outputs": [
    {
     "data": {
      "image/png": "iVBORw0KGgoAAAANSUhEUgAAAZQAAAEWCAYAAABBvWFzAAAABHNCSVQICAgIfAhkiAAAAAlwSFlzAAALEgAACxIB0t1+/AAAADh0RVh0U29mdHdhcmUAbWF0cGxvdGxpYiB2ZXJzaW9uMy4xLjEsIGh0dHA6Ly9tYXRwbG90bGliLm9yZy8QZhcZAAAcRElEQVR4nO3de5Qc5Xnn8e9Pl8EZQEKAuBjQDLZjc1tboOFisiAiWIzZZE32nMVJxgayB2YRIQt42bUTeW1jR06CIYm8xMkOF9ugcZzgW3yBcMkx2ZUPymFkLgaEEWCNhKUNYDAXj7ENevaPqrZareqZnu63u6Znfp9z6kxX1dtVzzvTU09XvW+9pYjAzMysVXPKDsDMzGYGJxQzM0vCCcXMzJJwQjEzsyScUMzMLAknFDMzS8IJxawDJJ0p6WsJt3eapKer5h+RdFqL2/yvkv605eBs1nJCsa4mabOkn0p6pWq6ruy4CnwSaNvBOiKOjoh7WtzMMPA+SQckCMlmIScUmwl+MyL2qpouTblxSfNafP/xwMKIWN+O7acSEa8CtwPnlR2LdScnFJuRJF0gaZ2kayS9IOkHkt5dtX6hpBslbZf0Q0l/LGlu1Xu/I+kvJD0PfEzSXEnXSnou39alkkLSPEn/SdKGmv3/t6pLXO8G/rlmfUj6fUmbgE35sjWStkp6SdIGSadUlf8VSZ/L6/IocHzN9jZLOiN//TlJf1y1rvby2AfzOr8s6fuSTq/a1D3Av5/6b9zMCcVmthOB7wP7A1cDN0pSvu7zwGvAW4BjgTOBC2ve+xRwALAauIgsMSwFjgPOqSr7deBwSUdWLXsfcEv++t/kcdQ6J9/PUfn8ffn29wW+ANwq6Q35uo8Cb86ndwHnN/ILqCXpbcClwPERsXe+rc1VRTYC72hm22ZOKDYTfE3Sj6umi/LlYxFxfUS8TpZADgYOlHQgWXK4PCJ+EhHPAH8B/HbVNrdFxP+KiNci4qfAucCaiHg6Il6gqj0kIn4G/B1ZEkHS0UA/8M28yD7AywVx/0lEPJ9vn4hYGxE/yvd5LbAH8La87LnA6rz8VuDTTf6uXs+3e5Sk+RGxOSKerFr/MrCwyW3bLOeEYjPBORGxT9V0fb78/1UKRMR4/nIvoA+YD2yvJCHgf5OdjVRsrdnHG2uW1a7/PPC7+RnQ+4G/zxMNwAvA3gVx77KN/DLZRkkv5jEtJDu7Ktr/WMH2JhURTwCXAx8DnpH0RUlvrCqyN/BiM9s2c0Kx2Wgr8DNg/6oktCAijq4qUzsM93bg0Kr5w6pX5g3uPwdOAX6XnZe7AB4C3loQxy/3kbeXfJDsTGRRROxDdmCvXKLbXrPPJRPU7ydAb9X8QTWxfiEi/i1ZYg3gz6pWHwk8OMG2zepyQrFZJyK2A3cC10paIGmOpDdLWj7B2/4euEzSIZL2ITv417oZuA54LSLWVS2/DZho25CdGbwGPAvMk/QRYEHN/v9Q0iJJhwJ/MMG2HgDOlrSvpIPIzkiArA1F0gpJewCvAj8luwxWsZysp5fZlDmh2EzwjZr7UL7awHvOA3qAR8kuSX2JrI2lnuvJktBDwP1kSeI1dj0Y3wIcw65nJ0TEd4EXJZ04wfbvIDuQP052OetVdr3EdVW+/Ad5HLfUbqAmjgfJGtvvJGvfqdiDrP3nObJLggcAfwSQdwA4m+zyndmUyQ/YMpu6vAvy30REX9WyXwGeAY6LiE015c8ELomIc5imJP0BcFhE/I+yY7Hu5IRi1oA8Wfw62Tf+A4EvA+sjovpy0geA34iIFeVEaVYuJxSzBkjqJbs58QiydodvAZdFxEv5+s1kDejnRMT9ZcVpViYnFDMzS8KN8mZmlsS0GJQupf333z/6+/vLDsPMrKts2LDhuYhY3Mo2ZlxC6e/vZ3R0tOwwzMy6iqSmRl+o5kteZmaWhBOKmZkl4YRiZmZJOKGYmVkSTihmZpaEE0qRkRHo74c5c7KfIyNlR2RmNu3NuG7DLRsZgaEhGM+fxzQ2ls0DDA6WF5eZ2TTnM5Raq1btTCYV4+PZcjMzq8sJpdaWLVNbbmZmgBPK7pbUebJqveVmZgY4oexu9Wro7d11WW9vttzMzOpyQqk1OAjDw9DXB1L2c3jYDfJmZpMoJaFIWippvaQHJI1KOqFOufMlbcqn8zsW4OAgbN4MO3ZkP51MzMwmVVa34auBqyLidkln5/OnVReQtC/wUWAACGCDpK9HxAudDtbMzCZX1iWvABbkrxcC2wrKvAu4KyKez5PIXcBZHYrPzMymqKwzlMuBOyRdQ5bUTi4ocwiwtWr+6XzZbiQNAUMAS9wby8ysFG1LKJLuBg4qWLUKOB24IiK+LOlc4EbgjNpNFLw3ivYVEcPAMMDAwEBhGTMza6+2JZSIqE0QvyTpZuCyfPZW4IaCYk+za7vKocA9icIzM7PEympD2QYsz1+vADYVlLkDOFPSIkmLgDPzZWZmNg2V1YZyEbBG0jzgVfL2D0kDwMURcWFEPC/pE8B9+Xs+HhHPlxOumZlNppQzlIhYFxHLIuIdEXFiRGzIl49GxIVV5W6KiLfk02fbGpSHrDcza4mHrwcPWW9mloCHXgEPWW9mloATCnjIejOzBJxQwEPWm5kl4IQCHrLezCwBJxTwkPVmZgm4l1fF4KATiJlZC3yGYmZmSTihmJlZEk4oZmaWhBOKmZkl4YRiZmZJOKGYmVkSTigVHm3YzKwlvg8FPNqwmVkCPkMBjzZsZpaAEwp4tGEzswScUMCjDZuZJeCEAh5t2MwsAScU8GjDZmYJuJdXhUcbNjNric9QzMwsCScUMzNLwgnFzMyScEIxM7MknFDMzCwJJ5QKDw5pZtYSdxsGDw5pZpaAz1DAg0OamSXghAIeHNLMLAEnFPDgkGZmCTihgAeHNDNLwAkFPDikmVkCpSQUSUslrZf0gKRRSSfUKXOvpEckPSTpvW0NanAQNm+GHTuyn04mZmZTUtYZytXAVRGxFPhIPl9rHDgvIo4GzgL+UtI+HYzRzMymoKz7UAJYkL9eCGzbrUDE41Wvt0l6BlgM/LgjEZqZ2ZSUlVAuB+6QdA3ZWdLJExXOL4n1AE/WWT8EDAEscc8sM7NStC2hSLobOKhg1SrgdOCKiPiypHOBG4Ez6mznYOAW4PyI2FFUJiKGgWGAgYGBSBC+mZlNUdsSSkQUJggASTcDl+WztwI31Cm3APgW8OGIWJ88SDMzS6asRvltwPL89QpgU20BST3AV4GbI+LWDsZmZmZNKKsN5SJgjaR5wKvk7R+SBoCLI+JC4FzgVGA/SRfk77sgIh4oIV4zM5tEKWcoEbEuIpZFxDsi4sSI2JAvH82TCRGxNiLmR8TSqql9ycTD15uZtcTD14OHrzczS8BDr4CHrzczS8AJBTx8vZlZAk4o4OHrzcwScEIBD19vZpaAEwp4+HozswTcy6ticNAJxMysBT5DMTOzJJxQzMwsCScUMzNLwgnFzMyScEIxM7MknFDMzCwJJxQzM0vCCcXMzJJwQjEzsyScUMzMLAknFDMzS8IJxczMknBCMTOzJJxQzMwsCScUMzNLwgnFzMyScEIpMjIC/f0wZ072c2Sk7IjMzKY9P7Gx1sgIDA3B+Hg2PzaWzYOf6GhmNgGfodRatWpnMqkYH8+Wm5lZXU4otbZsmdpyMzMDnFB2t2TJ1JabmRnghLK71auht3fXZb292XIzM6uroYQi6RpJR7c7mGlhcBCGh6GvD6Ts5/CwG+TNzCbRaC+vx4BhSfOAzwJ/GxEvti+skg0OOoGYmU1RQ2coEXFDRPwacB7QDzwk6QuSfr2dwZmZWfdouA1F0lzgiHx6DngQ+ICkL7YpNjMz6yKNtqH8OfB94GzgkxGxLCL+LCJ+Ezh2qjuVtFTSekkPSBqVdMIEZRdI+qGk66a6HzMz65xG21AeBj4cEeMF6+omgwlcDVwVEbdLOjufP61O2U8A/9zEPszMrIMaTSgPAEdIql72IjDWZON8AAvy1wuBbUWFJC0DDgT+ERhoYj9mZtYhjSaUzwDHAQ8BAo7JX+8n6eKIuHOK+70cuEPSNWSX3U6uLSBpDnAt8H7g9Ik2JmkIGAJY4hsQzcxK0Wij/Gbg2IgYiIhlZO0mDwNnkF2u2o2kuyU9XDC9B1gJXBERhwFXADcWbOIS4LaI2DpZcBExnMc2sHjx4garZGZmKTV6hnJERDxSmYmIRyUdGxFP1VwGo6rMGfU2Julm4LJ89lbghoJi7wROkXQJsBfQI+mViPhQgzGbmVkHNZpQHpf010Cli/B782V7AL9oYr/bgOXAPcAKYFNtgYj45Z2Fki4ABpxMzMymr0YTyvlkl6AuJ2tDWQdcSZZMmrm58SJgTX7n/avk7R+SBoCLI+LCJrZpZmYlUkRMXCC7ofHzEfG+zoTUmoGBgRgdHS07DDOzriJpQ0S01Jt20kb5iHgdWCypp5UdmZnZzDaVXl7fkfQ/JX2gMrUxrs7zc+TNzFrSaBvKtnyaA+zdvnBK4ufIm5m1bNI2lF0KS3tGxE/aGE/LmmpD6e/Pkkitvj7YvDlFWGZm01pH2lDyHb1T0qPAxnz+HZI+08qOpxU/R97MrGWNtqH8JfAu4EcAEfEgcGq7guo4P0fezKxlDT8PpWAIlNcTx1IeP0fezKxljSaUrZJOBkJSj6QryS9/zQh+jryZWcsa7eV1MbAGOAR4GrgT+P12BVUKP0fezKwlDSWUiHgO8NHWzMzqaiihSFpMNv5Wf/V7IuI/tycsMzPrNo1e8voH4P8CdzOTGuPNzCyZRhNKb0R8sK2RmJlZV2u0l9c3JZ3d1kjMzKyrNZpQLgO+Iemnkl6S9LKkl9oZmJmZdZdGL3ktJOvldXhEfFzSEuDg9oVlZmbdptEzlL8CTgJ+J59/GbiuLRGZmVlXavQM5cSIOE7S/QAR8YIfuGVmZtUaPUP5Rf4o4IBf3peyo21RmZlZ12k0oXwa+CpwgKTVwDrgk22LyszMuk6jQ6+MSNoAnA4IOCciZs7gkGZm1rJG21CIiMeAx9oYi5mZdbGGn4diZmY2EScUMzNLwgnFzMyScEIxM7MknFDMzCwJJxQzM0vCCcXMzJJwQikyMgL9/TBnTvZzZKTsiMzMpr2Gb2ycNUZGYGgIxsez+bGxbB5gcLC8uMzMpjmfodRatWpnMqkYH8+Wm5lZXU4otbZsmdpyMzMDSkookpZKWi/pAUmjkk6oU26JpDslbZT0qKT+tge3ZMnUlpuZGVDeGcrVwFURsRT4SD5f5GbgUxFxJHAC8EzbI1u9Gnp7d13W25stNzOzuspKKAEsyF8vBLbVFpB0FDAvIu4CiIhXImK8tlxyg4MwPAx9fSBlP4eH3SBvZjYJRUTndyodCdxB9myVOcDJETFWU+Yc4ELg58DhwN3AhyLi9YLtDQFDAEuWLFk2NjZWW8TMzCYgaUNEDLSyjbadoUi6W9LDBdN7gJXAFRFxGHAFcGPBJuYBpwBXAscDbwIuKNpXRAxHxEBEDCxevLgt9TEzs4m17T6UiDij3jpJNwOX5bO3AjcUFHsauD8insrf8zXgJIqTj5mZlaysNpRtwPL89QpgU0GZ+4BFkhZXlXu0A7GZmVkTyrpT/iJgjaR5wKvk7R+SBoCLI+LCiHhd0pXAP0kSsAG4vqR4zcxsEqUklIhYBywrWD5K1hBfmb8LeHsHQzMzsyb5TnkzM0vCCcXMzJJwQjEzsyScUMzMLAknFDMzS8IJxczMknBCMTOzJJxQzMwsCScUMzNLwgnFzMyScEIxM7MknFDMzCwJJxQzM0vCCaVRIyPQ3w9z5mQ/R0bKjsjMbFop63ko3WVkBIaGYHw8mx8by+YBBgfLi8vMbBrxGUojVq3amUwqxsez5WZmBjihNGbLlqktNzObhZxQGrFkydSWm5nNQk4ojVi9Gnp7d13W25stNzMzwAmlMYODMDwMfX0gZT+Hh90gb2ZWxb28GjU46ARiZjYBn6GYmVkSTihmZpaEE4qZmSXhhGJmZkk4oZiZWRJOKGZmloQTipmZJeGEYmZmSTihmJlZEk4oZmaWhBOKmZkl4YRiZmZJlJJQJC2VtF7SA5JGJZ1Qp9zVkh6RtFHSpyWp07E2zM+cN7NZrqwzlKuBqyJiKfCRfH4Xkk4Gfg14O3AMcDywvJNBNqzyzPmxMYjY+cx5JxUzm0XKSigBLMhfLwS21SnzBqAH2AOYD/xrR6KbKj9z3systIRyOfApSVuBa4A/rC0QEfcC3wa259MdEbGxaGOShvJLZ6PPPvtsG8Ouo96z5cfGfJZiZrNG2xKKpLslPVwwvQdYCVwREYcBVwA3Frz/LcCRwKHAIcAKSacW7SsihiNiICIGFi9e3K4q1TfRs+V96cvMZom2JZSIOCMijimY/gE4H/hKXvRWoKhR/reA9RHxSkS8AtwOnNSueFtS9Mz5Cl/6MrNZoqxLXtvY2cC+AthUUGYLsFzSPEnz8/KFl7xKV3nmfD31LomZmc0gZSWUi4BrJT0IfBIYApA0IOmGvMyXgCeB7wEPAg9GxDfKCLYhg4PQ11e8bqJLYmZmM8S8MnYaEeuAZQXLR4EL89evA/+lw6G1ZvXqrM2kusdXb2+23MxshvOd8ilVLn319YGU/Rwezpabmc1wTiipDQ7C5s2wY0f2s53JxHfn1+ffjc0m0+TzXsolL0ugcnd+5fJa5e588BmRfzc2m0yjz7sioqM7bLeBgYEYHR0tO4z26+/PPji1+vqyM6PZzL8bm00Sfd4lbYiIgVZC8SWvblWvK/JUuihPk9Pk5FL8bmaSmfp3tsw0+rw7oXSrel2R58xp7MDRyQEtO31Aq/e7mY3dtz1w6cw3nT7vETGjpmXLlsWssHZtRG9vRHaYKJ56e7NyRfr6it/T19f+OCeKq1v3OV116u9s5Un0eQdGo8Xjb+kJIPU0axJKRPaB6euLkCLmzp3agUMqLi+ljbGsA1r176avb3Ymk4jO/Z2tXAk+7ykSihvlZ4o5c7JDRS0p68Jcq1MN11ONy9Jq9e88MpKNRbdlS3YJZfVq95SbodwobztN9Tpq0YCW7birfzpd352NWvk7u/3FpsgJZaaY6oGjU3f1dypxtaLZTgPd0Huqlb+zHxxnU9XqNbPpNs3oNpTJrpNO13aD6RpXRPMNmrOh4d/tL7MKbpRPmFCaPeh16mA5nQ9gK1fu7BQwd24236xOJ59mOw3Mht5Ts6GO9ktOKKkSytq1EfPnF//z7LdfNlUf4CoHvcq3tckO8mvXZtuo3uZUD5TV76+e5s5t38G36OBeu+z004vjqhx4phJTGUmz2W/hs+Hb+3T+EmPJOaGkSij1DtZF07x59ZNP9UGlkoT23LN+uZ6eXZPMypXF387Xrm0stp6e3ZNfs4oOJj09k9e96HfR6BlLGd+IfYYysel8udKSckIpmJpKKFM5QHZyqnwbrHfwavT9zWh2n/WSSiNxlPGt320oZhERSRKKe3lNZ5UeNc2OydNKj5yU4wBFNBZHGV2Mm+0F5WffmO3GNzYC7L8//OhH7QmoVVJ2QC26Oa3R9zdzA2G9G+Ka1UgctcNwQ9bF2Adqs7bzjY2prFkDPT1lR1Gscndy7b0c8+c3FnOz3+6L9tnTk+23Wm8vnH46zJ3behz+1m/W1ZxQIDtg3XTTzgPZnnvWLzt/PqxcCfvt1/64KjcAFh1oP/vZXWPeb7/ig32zNxAW7fOmm7L91h7w774bXnstu7S1cmW2rtk4OvnESzNLq9VGmOk2JbuxsboxvHKPRW0vl+oeMNXdixt9Xd0DbKJeXlONueweOdMlDjNrGB4ccnezdnBIM7MWuA3FzMymDScUMzNLwgnFzMyScEIxM7MknFDMzCyJGdfLS9KzQCu3eO8PPJconOnCdeoOrlN3mKl12jMiFreykRmXUFolabTVrnPTjevUHVyn7uA61edLXmZmloQTipmZJeGEsrvhsgNoA9epO7hO3cF1qsNtKGZmloTPUMzMLAknFDMzS2LWJBRJN0l6RtLDddZL0qclPSHpIUnHVa07X9KmfDq/c1FPrNk6SVoq6V5Jj+TL39vZyOtr5e+Ur18g6YeSrutMxJNr8bO3RNKdkjZKelRSf6finkiLdbo6/+xtzMuoaBud1kCdjsj/b34m6cqadWdJ+n5e3w91JuLJNVsnSYdJ+nb+N3pE0mUN7bDV8e+7ZQJOBY4DHq6z/mzgdkDAScC/5Mv3BZ7Kfy7KXy8quz4t1umtwK/mr98IbAf2Kbs+rdSpav0a4AvAdWXXJUWdgHuAf5e/3gvoLbs+LX72Tga+A8zNp3uB08quT4N1OgA4HlgNXFm1fC7wJPAmoAd4EDiq7Pq0WKeDgePy13sDjzdSp1lzhhIR/wd4foIi7wFujsx6YB9JBwPvAu6KiOcj4gXgLuCs9kc8uWbrFBGPR8SmfBvbgGeAlu6QTaWFvxOSlgEHAne2P9LGNVsnSUcB8yLirnw7r0TEeAdCnlQLf6cA3kB24N0DmA/8a7vjbcRkdYqIZyLiPuAXNatOAJ6IiKci4ufAF8nqX7pm6xQR2yPiu/nrl4GNwCGT7W/WJJQGHAJsrZp/Ol9Wb3k3mDR2SSeQ/XM/2cG4WlFYJ0lzgGuB/15KVK2p93d6K/BjSV+RdL+kT0maW0qEU1dYp4i4F/g22VnxduCOiNhYQnwpdfMxYlL5ZdZjgX+ZrKwTyk5F13FjguXdYMLY82+MtwC/FxE7OhZVa+rV6RLgtojYWrB+uqtXp3nAKcCVZJcl3gRc0LmwWlJYJ0lvAY4EDiU76K6QdGpHI0uvm48RE5K0F/Bl4PKIeGmy8k4oOz0NHFY1fyiwbYLl3aBu7JIWAN8CPpxfkugW9er0TuBSSZuBa4DzJP1p58NrykSfvfvzSymvAV8jux7eDerV6beA9fnlu1fI2llOKiG+lLr5GFGXpPlkyWQkIr7SyHucUHb6OtlBSJJOAl6MiO3AHcCZkhZJWgScmS/rBoV1ktQDfJXsGvet5YY4ZYV1iojBiFgSEf1k3+hvjohp09tmEvU+e/cBiyRV2rdWAI+WFeQU1avTFmC5pHn5AWs52fX5bnYf8KuSDs//t36brP5dK+95dyOwMSL+vNH3zWtfSNOLpL8FTgP2l/Q08FGyBkEi4m+A28h6pjwBjAO/l697XtInyD40AB+PiIkaIzum2ToB55L1/thP0gX5sgsi4oGOBV9HC3Watlr47L2ed+X8p/wffANwfccrUKCFv9OXyBLj98guC/1jRHyjo8HXMVmdJB0EjAILgB2SLifr+fSSpEvJvmjOBW6KiEfKqEOtZusEvB14P/A9SZXjwh9FxG0T7i/vFmZmZtYSX/IyM7MknFDMzCwJJxQzM0vCCcXMzJJwQjEzsyScUMxKIuk0Sd/MX/+Hyii1ki6WdF650ZlNnbsNmyWW3zOiyYazkXQa2Qivv9GRwMzazGcoZglI6s+fHfEZ4LvAjZJG82dJXFVV7ixJj0laB/zHquUXKH+Gi6SP1T5vw6wbzJo75c064G1kA21eImnffJSFuWR3ur+d7JkS15PdKf4E8HclxmqWnM9QzNIZqxpo81xJ3wXuB44mG87iCOAHEbEpsmvNa0uK06wtfIZils5PACQdTj7kfES8IOlzZA+VghkyrLlZEZ+hmKW3gCy5vCjpQODd+fLHgMMlvTmf/50ygjNrF5+hmCUWEQ9Kuh94BHiK7BnqRMSrkoaAb0l6DlgHHFNepGZpuduwmZkl4UteZmaWhBOKmZkl4YRiZmZJOKGYmVkSTihmZpaEE4qZmSXhhGJmZkn8f0Ihk52KMAAbAAAAAElFTkSuQmCC\n",
      "text/plain": [
       "<Figure size 432x288 with 1 Axes>"
      ]
     },
     "metadata": {
      "needs_background": "light"
     },
     "output_type": "display_data"
    }
   ],
   "source": [
    "# plot \n",
    "x_val = []\n",
    "y_val = []\n",
    "var = []\n",
    "\n",
    "for data in range(len(test)):\n",
    "    y_val.append(float(test[data][0]))\n",
    "    x_val.append(float(test[data][4]))\n",
    "    var.append(float(test[data][3]))\n",
    "\n",
    "plt.plot(x_val, y_val,'ro')\n",
    "plt.xlabel('radii')\n",
    "plt.ylabel('energy')\n",
    "plt.title('Energy(radius)')\n",
    "plt.show()"
   ]
  },
  {
   "cell_type": "code",
   "execution_count": 17,
   "metadata": {},
   "outputs": [],
   "source": [
    "r_energy_dict = dict(zip(x_val, y_val))     "
   ]
  },
  {
   "cell_type": "code",
   "execution_count": 28,
   "metadata": {},
   "outputs": [],
   "source": [
    "from collections import OrderedDict \n",
    "\n",
    "ordered = OrderedDict(sorted(r_energy_dict.items()))\n",
    "\n",
    "r_ordered = list(ordered.keys())\n",
    "e_ordered = list(ordered.values())"
   ]
  },
  {
   "cell_type": "code",
   "execution_count": 41,
   "metadata": {},
   "outputs": [
    {
     "data": {
      "image/png": "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\n",
      "text/plain": [
       "<Figure size 1080x360 with 1 Axes>"
      ]
     },
     "metadata": {
      "needs_background": "light"
     },
     "output_type": "display_data"
    }
   ],
   "source": [
    "from scipy.interpolate import UnivariateSpline,InterpolatedUnivariateSpline\n",
    "\n",
    "# print(len(r_ordered))\n",
    "# print(len(e_ordered))\n",
    "\n",
    "# print(r_ordered)\n",
    "# print(e_ordered)\n",
    "\n",
    "s = InterpolatedUnivariateSpline(r_ordered, e_ordered, k=1)\n",
    "xs = np.linspace(1, 10, 0)\n",
    "ys = s(xs)\n",
    "plt.figure(figsize=(15,5))\n",
    "plt.plot(r_ordered, e_ordered, label=\"Approximation\")\n",
    "plt.plot(r_ordered, e_ordered, 'o', label='Data points')\n",
    "plt.plot(xs, ys)\n",
    "plt.legend()\n",
    "plt.show()"
   ]
  },
  {
   "cell_type": "code",

   "execution_count": null,
   "metadata": {},
   "outputs": [],
   "source": []
  }
 ],
 "metadata": {
  "kernelspec": {
   "display_name": "Python 3",
   "language": "python",
   "name": "python3"
  },
  "language_info": {
   "codemirror_mode": {
    "name": "ipython",
    "version": 3
   },
   "file_extension": ".py",
   "mimetype": "text/x-python",
   "name": "python",
   "nbconvert_exporter": "python",
   "pygments_lexer": "ipython3",

   "version": "3.7.7"

  }
 },
 "nbformat": 4,
 "nbformat_minor": 2
}
