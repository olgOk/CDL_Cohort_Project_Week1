{
 "cells": [
  {
   "cell_type": "markdown",
   "metadata": {},
   "source": [
    "# Unitary ansatz entering the VQE\n",
    "\n",
    "The final energy output of a VQE calculation will crucially depend on the ansatz/form of the parameterized unitary $\\hat U(\\boldsymbol{\\theta})$ employed in state preparation. Here we review two popular approaches, the unitary coupled cluster and qubit coupled cluster methodologies, and benchmark them for energy calculations of small molecules."
   ]
  },
  {
   "cell_type": "code",
   "execution_count": 2,
   "metadata": {},
   "outputs": [],
   "source": [
    "import numpy as np\n",
    "import tequila as tq\n",
    "from utility import *\n",
    "threshold = 1e-6 #Cutoff for UCC MP2 amplitudes and QCC ranking gradients\n",
    "basis='sto-3g'"
   ]
  },
  {
   "cell_type": "markdown",
   "metadata": {},
   "source": [
    "## Unitary Coupled Cluster (UCC)\n",
    "\n",
    "The UCC ansatz is obtained by 'unitarizing' the traditional coupled cluster ansatz,\n",
    "$$ e^{\\hat T} \\rightarrow e^{\\hat T - \\hat T^\\dagger} \\equiv \\hat U_{\\text{UCC}}$$\n",
    "\n",
    "\n",
    "Due to non-commutativity of terms in $\\hat T - \\hat T^\\dagger$, the UCC ansatz does not have a straightforward decomposition in terms of circuit primitives implementable on the quantum computer. Therefore, to obtain a form which can be compiled, we employ the Trotter approximation. The accuracy of the circuit ansatz relative to the exact UCC operator will be dependent on how many Trotter steps are employed. The number of Trotter steps is commonly set to its minimal value of one to avoid excessive circuit depth."
   ]
  },
  {
   "cell_type": "code",
   "execution_count": 1,
   "metadata": {},
   "outputs": [],
   "source": [
    "trotter_steps = 1"
   ]
  },
  {
   "cell_type": "markdown",
   "metadata": {},
   "source": [
    "Below is a sample VQE simulation using the UCCSD ansatz compiled using a single trotter step for H$_2$ in minimal basis at $R=2$ (Angstrom). The VQE optimization is of the form\n",
    "$$E = \\min_{\\boldsymbol{\\theta}} \\langle \\text{HF} | \\hat U_{\\text{UCC}}^\\dagger(\\boldsymbol{\\theta}) \\hat H  \\hat U_{\\text{UCC}} (\\boldsymbol{\\theta}) | \\text{HF} \\rangle $$"
   ]
  },
  {
   "cell_type": "code",
   "execution_count": 8,
   "metadata": {
    "scrolled": true
   },
   "outputs": [
    {
     "name": "stdout",
     "output_type": "stream",
     "text": [
      "Optimizer: <class 'tequila.optimizers.optimizer_scipy.OptimizerSciPy'> \n",
      "backend         : qulacs\n",
      "samples         : None\n",
      "save_history    : True\n",
      "noise           : None\n",
      "\n",
      "Method          : BFGS\n",
      "Objective       : 1 expectationvalues\n",
      "gradient        : 32 expectationvalues\n",
      "\n",
      "active variables : 1\n",
      "\n",
      "E=-0.78379265  angles= {(1, 0, 1, 0): 0.0}  samples= None\n",
      "E=-0.94730762  angles= {(1, 0, 1, 0): -0.5182770490646362}  samples= None\n",
      "E=-0.94853739  angles= {(1, 0, 1, 0): -0.5800341642936221}  samples= None\n",
      "E=-0.94864111  angles= {(1, 0, 1, 0): -0.5665552235469631}  samples= None\n",
      "E=-0.94864111  angles= {(1, 0, 1, 0): -0.5665703294450197}  samples= None\n",
      "Optimization terminated successfully.\n",
      "         Current function value: -0.948641\n",
      "         Iterations: 4\n",
      "         Function evaluations: 5\n",
      "         Gradient evaluations: 5\n"
     ]
    }
   ],
   "source": [
    "xyz_data = get_molecular_data('h2', geometry=2, xyz_format=True)\n",
    "\n",
    "molecule = tq.quantumchemistry.Molecule(geometry=xyz_data, basis_set=basis)\n",
    "\n",
    "H = molecule.make_hamiltonian()\n",
    "\n",
    "U_UCCSD = molecule.make_uccsd_ansatz(initial_amplitudes='mp2', threshold=threshold, trotter_steps=trotter_steps)\n",
    "\n",
    "E = tq.ExpectationValue(H=H, U=U_UCCSD)\n",
    "\n",
    "result = tq.minimize(objective=E, method=\"BFGS\", initial_values={k:0.0 for k in E.extract_variables()}, tol=1e-6)\n"
   ]
  },
  {
   "cell_type": "markdown",
   "metadata": {},
   "source": [
    "## Qubit Coupled Cluster (QCC)\n",
    "\n",
    "In contrast to UCC, the QCC methodology makes no direct reference to fermionic algebra and seeks to construct an efficient ansatz directly in qubit-space by finding multi-qubit Pauli strings (entanglers) which lower energy. This is done through an energy-lowering heuristic employing the energy gradient with respect to a Pauli strings variational amplitude."
   ]
  },
  {
   "cell_type": "code",
   "execution_count": 9,
   "metadata": {},
   "outputs": [
    {
     "name": "stdout",
     "output_type": "stream",
     "text": [
      "Grouping gradient magnitudes:\n",
      "0.2591\n",
      "\n",
      "Generated entanglers:\n",
      "1.0 [X0 Y1 X2 X3]\n"
     ]
    }
   ],
   "source": [
    "xyz_data = get_molecular_data('h2', geometry=2, xyz_format=True)\n",
    "\n",
    "molecule = tq.quantumchemistry.Molecule(geometry=xyz_data, basis_set=basis)\n",
    "\n",
    "hf_reference = hf_occ(2*molecule.n_orbitals, molecule.n_electrons)\n",
    "\n",
    "H = molecule.make_hamiltonian()\n",
    "\n",
    "#Define number of entanglers to enter ansatz\n",
    "n_ents = 1\n",
    "\n",
    "#Rank entanglers using energy gradient criterion\n",
    "ranked_entangler_groupings = generate_QCC_gradient_groupings(H.to_openfermion(), \n",
    "                                                             2*molecule.n_orbitals, \n",
    "                                                             hf_reference, \n",
    "                                                             cutoff=threshold)\n",
    "\n",
    "print('Grouping gradient magnitudes:')\n",
    "for grouping in ranked_entangler_groupings:\n",
    "    print(grouping[1])\n",
    "\n",
    "entanglers = get_QCC_entanglers(ranked_entangler_groupings, n_ents, 2*molecule.n_orbitals)\n",
    "\n",
    "print('\\nGenerated entanglers:')\n",
    "for ent in entanglers:\n",
    "    print(ent)\n",
    "\n"
   ]
  },
  {
   "cell_type": "markdown",
   "metadata": {},
   "source": [
    "Once the QCC ranking procedure has been ran, we can simulate the QCC VQE optimization with the generated entanglers. The VQE optimization for the QCC ansatz is of the form\n",
    "$$E = \\min_{\\boldsymbol{\\Omega}, \\boldsymbol{\\tau}} \\langle \\boldsymbol{\\Omega} | U_{\\text{ENT}}^\\dagger (\\boldsymbol{\\tau}) \\hat H  U_{\\text{ENT}} (\\boldsymbol{\\tau}) | \\boldsymbol{\\Omega} \\rangle $$\n",
    "where $\\boldsymbol{\\Omega}$ denote collective Euler angles parameterizing single-qubit rotations, and $\\boldsymbol{\\tau}$ are entangler amplitudes. "
   ]
  },
  {
   "cell_type": "code",
   "execution_count": 10,
   "metadata": {},
   "outputs": [
    {
     "name": "stdout",
     "output_type": "stream",
     "text": [
      "Optimizer: <class 'tequila.optimizers.optimizer_scipy.OptimizerSciPy'> \n",
      "backend         : qulacs\n",
      "samples         : None\n",
      "save_history    : True\n",
      "noise           : None\n",
      "\n",
      "Method          : BFGS\n",
      "Objective       : 1 expectationvalues\n",
      "gradient        : 18 expectationvalues\n",
      "\n",
      "active variables : 9\n",
      "\n",
      "E=-0.78379265  angles= {beta_1: 3.141592653589793, beta_0: 3.141592653589793, tau_0: 0.0, gamma_1: 0.0, beta_3: 0.0, gamma_3: 0.0, gamma_2: 0.0, gamma_0: 0.0, beta_2: 0.0}  samples= None\n",
      "E=-0.84614773  angles= {beta_1: 3.141592653589793, beta_0: 3.141592653589793, tau_0: 0.25913846492767334, gamma_1: 0.0, beta_3: 0.0, gamma_3: 0.0, gamma_2: 0.0, gamma_0: 0.0, beta_2: 0.0}  samples= None\n",
      "E=-0.93586763  angles= {beta_1: 3.141592653589793, beta_0: 3.141592653589793, tau_0: 0.8331991688325238, gamma_1: 0.0, beta_3: 0.0, gamma_3: 0.0, gamma_2: 0.0, gamma_0: 0.0, beta_2: 0.0}  samples= None\n",
      "E=-0.94812904  angles= {beta_1: 3.141592653589793, beta_0: 3.141592653589793, tau_0: 1.192979270155198, gamma_1: 0.0, beta_3: 0.0, gamma_3: 0.0, gamma_2: 0.0, gamma_0: 0.0, beta_2: 0.0}  samples= None\n",
      "E=-0.94864104  angles= {beta_1: 3.141592653589793, beta_0: 3.141592653589793, tau_0: 1.1324167243880383, gamma_1: 0.0, beta_3: 0.0, gamma_3: 0.0, gamma_2: 0.0, gamma_0: 0.0, beta_2: 0.0}  samples= None\n",
      "E=-0.94864111  angles= {beta_1: 3.141592624143881, beta_0: 3.141592624143881, tau_0: 1.1331410014096885, gamma_1: 0.0, beta_3: 0.0, gamma_3: 0.0, gamma_2: 0.0, gamma_0: 0.0, beta_2: 0.0}  samples= None\n",
      "Optimization terminated successfully.\n",
      "         Current function value: -0.948641\n",
      "         Iterations: 5\n",
      "         Function evaluations: 6\n",
      "         Gradient evaluations: 6\n"
     ]
    }
   ],
   "source": [
    "#Mean-field part of U (Omega):    \n",
    "U_MF = construct_QMF_ansatz(n_qubits = 2*molecule.n_orbitals)\n",
    "#Entangling part of U:\n",
    "U_ENT = construct_QCC_ansatz(entanglers)\n",
    "\n",
    "U_QCC = U_MF + U_ENT\n",
    "\n",
    "E = tq.ExpectationValue(H=H, U=U_QCC)\n",
    "\n",
    "initial_vals = init_qcc_params(hf_reference, E.extract_variables())\n",
    "\n",
    "#Minimize wrt the entangler amplitude and MF angles:\n",
    "result = tq.minimize(objective=E, method=\"BFGS\", initial_values=initial_vals, tol=1.e-6)\n"
   ]
  },
  {
   "cell_type": "code",
   "execution_count": null,
   "metadata": {},
   "outputs": [],
   "source": []
  }
 ],
 "metadata": {
  "kernelspec": {
   "display_name": "tequila_devel_3.6",
   "language": "python",
   "name": "tequila_devel_3.6"
  },
  "language_info": {
   "codemirror_mode": {
    "name": "ipython",
    "version": 3
   },
   "file_extension": ".py",
   "mimetype": "text/x-python",
   "name": "python",
   "nbconvert_exporter": "python",
   "pygments_lexer": "ipython3",
   "version": "3.6.10"
  }
 },
 "nbformat": 4,
 "nbformat_minor": 2
}
