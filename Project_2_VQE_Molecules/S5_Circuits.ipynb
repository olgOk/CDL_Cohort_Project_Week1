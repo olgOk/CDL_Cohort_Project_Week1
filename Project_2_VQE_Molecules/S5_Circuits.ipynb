{
 "cells": [
  {
   "cell_type": "markdown",
   "metadata": {},
   "source": [
    "# Quantum Circuits\n",
    "Often, quantum computers will have a specific set of gates available. Given the entanglers and their amplitudes found in Step 3, one can find their equivalence in terms of elementary gates. "
   ]
  },
  {
   "cell_type": "code",
   "execution_count": 2,
   "metadata": {},
   "outputs": [],
   "source": [
    "import tequila as tq\n",
    "from utility import *"
   ]
  },
  {
   "cell_type": "markdown",
   "metadata": {},
   "source": [
    "First, we set up the Hamiltonian in Tequila's format and the unitary gates obtained in Step 3. "
   ]
  },
  {
   "cell_type": "code",
   "execution_count": 6,
   "metadata": {
    "tags": []
   },
   "outputs": [
    {
     "output_type": "stream",
     "name": "stdout",
     "text": "circuit: \nRx(target=(0,), parameter=beta_0)\nRz(target=(0,), parameter=gamma_0)\nRx(target=(1,), parameter=beta_1)\nRz(target=(1,), parameter=gamma_1)\nRx(target=(2,), parameter=beta_2)\nRz(target=(2,), parameter=gamma_2)\nRx(target=(3,), parameter=beta_3)\nRz(target=(3,), parameter=gamma_3)\nExp-Pauli(target=(0, 1, 2, 3), control=(), parameter=tau_0, paulistring=X(0)Y(1)X(2)X(3))\n\n"
    }
   ],
   "source": [
    "H = tq.QubitHamiltonian.from_openfermion(get_qubit_hamiltonian('h2', 2, 'sto-3g', qubit_transf='jw'))\n",
    "\n",
    "a = tq.Variable(\"tau_0\")\n",
    "U = construct_QMF_ansatz(4)\n",
    "U += tq.gates.ExpPauli(paulistring=tq.PauliString.from_string(\"X(0)Y(1)X(2)X(3)\"), angle=a)\n",
    "print(U)"
   ]
  },
  {
   "cell_type": "markdown",
   "metadata": {},
   "source": [
    "One can check the expectation value to see it is near the ground state energy."
   ]
  },
  {
   "cell_type": "code",
   "execution_count": 5,
   "metadata": {
    "tags": []
   },
   "outputs": [
    {
     "output_type": "stream",
     "name": "stdout",
     "text": "-0.9486411121761621\n"
    }
   ],
   "source": [
    "\n",
    "E1 = tq.ExpectationValue(H=H, U=U)\n",
    "\n",
    "print(tq.simulate(E1, {'beta_1': 3.141592624143881, 'beta_0': 3.141592624143881, 'tau_0': 1.1331410014096885, 'gamma_1': 0.0, 'beta_3': 0.0, 'gamma_3': 0.0, 'gamma_2': 0.0, 'gamma_0': 0.0, 'beta_2': 0.0}))"
   ]
  },
  {
   "cell_type": "code",
   "execution_count": 7,
   "metadata": {
    "tags": []
   },
   "outputs": [
    {
     "output_type": "stream",
     "name": "stdout",
     "text": "┌────────────────────┐┌─────────────────────┐   ┌───┐                   »\nq_0: ┤ RX(f((beta_0,))_0) ├┤ RZ(f((gamma_0,))_1) ├───┤ H ├──────■────────────»\n     ├────────────────────┤├─────────────────────┤┌──┴───┴───┐┌─┴─┐          »\nq_1: ┤ RX(f((beta_1,))_2) ├┤ RZ(f((gamma_1,))_3) ├┤ RX(pi/2) ├┤ X ├──■───────»\n     ├────────────────────┤├─────────────────────┤└──┬───┬───┘└───┘┌─┴─┐     »\nq_2: ┤ RX(f((beta_2,))_4) ├┤ RZ(f((gamma_2,))_5) ├───┤ H ├─────────┤ X ├──■──»\n     ├────────────────────┤├─────────────────────┤   ├───┤         └───┘┌─┴─┐»\nq_3: ┤ RX(f((beta_3,))_6) ├┤ RZ(f((gamma_3,))_7) ├───┤ H ├──────────────┤ X ├»\n     └────────────────────┘└─────────────────────┘   └───┘              └───┘»\nc_0: ════════════════════════════════════════════════════════════════════════»\n                                                                             »\nc_1: ════════════════════════════════════════════════════════════════════════»\n                                                                             »\nc_2: ════════════════════════════════════════════════════════════════════════»\n                                                                             »\nc_3: ════════════════════════════════════════════════════════════════════════»\n                                                                             »\n«                                             ┌───┐    \n«q_0: ─────────────────────────────────■──────┤ H ├────\n«                                    ┌─┴─┐┌───┴───┴───┐\n«q_1: ────────────────────────────■──┤ X ├┤ RX(-pi/2) ├\n«                               ┌─┴─┐├───┤└───────────┘\n«q_2: ───────────────────────■──┤ X ├┤ H ├─────────────\n«     ┌───────────────────┐┌─┴─┐├───┤└───┘             \n«q_3: ┤ RZ(f((tau_0,))_8) ├┤ X ├┤ H ├──────────────────\n«     └───────────────────┘└───┘└───┘                  \n«c_0: ═════════════════════════════════════════════════\n«                                                      \n«c_1: ═════════════════════════════════════════════════\n«                                                      \n«c_2: ═════════════════════════════════════════════════\n«                                                      \n«c_3: ═════════════════════════════════════════════════\n«                                                      \n"
    }
   ],
   "source": [
    "circ = tq.circuit.compiler.compile_exponential_pauli_gate(U)\n",
    "tq.draw(circ, backend=\"qiskit\")"
   ]
  }
 ],
 "metadata": {
  "language_info": {
   "codemirror_mode": {
    "name": "ipython",
    "version": 3
   },
   "file_extension": ".py",
   "mimetype": "text/x-python",
   "name": "python",
   "nbconvert_exporter": "python",
   "pygments_lexer": "ipython3",
   "version": "3.7.1-final"
  },
  "orig_nbformat": 2,
  "kernelspec": {
   "name": "qchem",
   "display_name": "qchem"
  }
 },
 "nbformat": 4,
 "nbformat_minor": 2
}