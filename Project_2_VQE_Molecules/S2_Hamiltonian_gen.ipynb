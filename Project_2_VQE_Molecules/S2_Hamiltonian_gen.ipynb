{
 "cells": [
  {
   "cell_type": "markdown",
   "metadata": {},
   "source": [
    "# Generating Qubit Hamiltonians"
   ]
  },
  {
   "cell_type": "code",
   "execution_count": 1,
   "metadata": {},
   "outputs": [],
   "source": [
    "from utility import *"
   ]
  },
  {
   "cell_type": "markdown",
   "metadata": {},
   "source": [
    "Specify the Qubit Hamiltonian of a molecule by name, internuclear distances, and the basis set.\n",
    "Here, we show the resulting Hamiltonian for $H_2$. "
   ]
  },
  {
   "cell_type": "code",
   "execution_count": 2,
   "metadata": {
    "tags": []
   },
   "outputs": [
    {
     "output_type": "stream",
     "name": "stdout",
     "text": "-0.32760818967480887 [] +\n0.04919764587136755 [X0 Z1 X2] +\n0.04919764587136755 [X0 Z1 X2 Z3] +\n0.04919764587136755 [Y0 Z1 Y2] +\n0.04919764587136755 [Y0 Z1 Y2 Z3] +\n0.13716572937099497 [Z0] +\n0.13716572937099492 [Z0 Z1] +\n0.15542669077992832 [Z0 Z1 Z2] +\n0.15542669077992832 [Z0 Z1 Z2 Z3] +\n0.10622904490856075 [Z0 Z2] +\n0.10622904490856075 [Z0 Z2 Z3] +\n0.15660062488237947 [Z1] +\n-0.13036292057109117 [Z1 Z2 Z3] +\n0.16326768673564346 [Z1 Z3] +\n-0.13036292057109117 [Z2]\n"
    }
   ],
   "source": [
    "h2 = get_qubit_hamiltonian(mol='h2', geometry=1, basis='sto3g', qubit_transf='bk')\n",
    "print(h2)"
   ]
  },
  {
   "cell_type": "markdown",
   "metadata": {},
   "source": [
    "Alternatively, the qubit-tapering technique can exploit the symmetry in the Hamiltonian and find a smaller effective Hamitlonian. "
   ]
  },
  {
   "cell_type": "code",
   "execution_count": 3,
   "metadata": {
    "tags": []
   },
   "outputs": [
    {
     "output_type": "stream",
     "name": "stdout",
     "text": "The effective Hamiltonian:\n -0.5310513494337641 [] +\n0.1967905834854702 [X0] +\n-0.5350572998841723 [Z0]\n"
    }
   ],
   "source": [
    "print(\"The effective Hamiltonian:\\n {}\".format(taper_hamiltonian(h2, n_spin_orbitals=4, n_electrons=2))) \n"
   ]
  },
  {
   "cell_type": "markdown",
   "metadata": {},
   "source": [
    "We can verify that this new Hamiltonian indeed includes the ground state. "
   ]
  },
  {
   "cell_type": "code",
   "execution_count": 4,
   "metadata": {
    "tags": []
   },
   "outputs": [
    {
     "output_type": "stream",
     "name": "stdout",
     "text": "The ground state energy:\nE = -1.1011503301329564 Eh\n\nThe eigenvalues in the effective Hamiltonian: \n [-1.10115031  0.03904763]\n"
    }
   ],
   "source": [
    "print(\"The ground state energy:\")\n",
    "obtain_PES('h2', [1], 'sto-3g', 'fci')\n",
    "\n",
    "# Building the matrix representation of the effective Hamiltonian\n",
    "I, X, Z = np.identity(2), np.array([[0, 1], [1, 0]]), np.array([[1, 0], [0, -1]])\n",
    "h2_matrix = -0.53105134 * I + 0.19679058 * X - 0.53505729 * Z\n",
    "\n",
    "# Obtain the eigenvalues\n",
    "eigvals, _ = np.linalg.eigh(h2_matrix)\n",
    "print(\"\\nThe eigenvalues in the effective Hamiltonian: \\n {}\".format(eigvals))"
   ]
  }
 ],
 "metadata": {
  "kernelspec": {
   "display_name": "qchem",
   "language": "python",
   "name": "qchem"
  },
  "language_info": {
   "codemirror_mode": {
    "name": "ipython",
    "version": 3
   },
   "file_extension": ".py",
   "mimetype": "text/x-python",
   "name": "python",
   "nbconvert_exporter": "python",
   "pygments_lexer": "ipython3",
   "version": "3.7.1-final"
  }
 },
 "nbformat": 4,
 "nbformat_minor": 2
}