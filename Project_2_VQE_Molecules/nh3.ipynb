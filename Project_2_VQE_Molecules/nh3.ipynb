{
 "cells": [
  {
   "cell_type": "code",
   "execution_count": 1,
   "metadata": {},
   "outputs": [],
   "source": [
    "import tequila as tq\n",
    "import numpy as np\n",
    "from utility import *\n",
    "import matplotlib.pyplot as plt"
   ]
  },
  {
   "cell_type": "markdown",
   "metadata": {},
   "source": [
    "# Obtaining system Hamiltonians for NH3 symmetric bond stretch in minimal basis"
   ]
  },
  {
   "cell_type": "code",
   "execution_count": 2,
   "metadata": {},
   "outputs": [
    {
     "name": "stdout",
     "output_type": "stream",
     "text": [
      "Generating NH3 electronic Hamiltonians at...\n",
      "R = 0.5\n",
      "R = 0.7\n",
      "R = 0.9\n",
      "R = 1.1\n",
      "R = 1.3\n",
      "R = 1.5\n",
      "R = 1.7\n",
      "R = 1.9\n",
      "R = 2.1\n"
     ]
    }
   ],
   "source": [
    "basis = 'sto-3g'\n",
    "\n",
    "geometries = np.arange(0.5, 2.2, 0.2)\n",
    "\n",
    "PES_configs = []\n",
    "\n",
    "print('Generating NH3 electronic Hamiltonians at...')\n",
    "\n",
    "for R in geometries:\n",
    "    print('R = {}'.format(round(R,2)))\n",
    "    \n",
    "    nh3_moldata_R = get_molecular_data('nh3', R, xyz_format=True)\n",
    "        \n",
    "    nh3_R = tq.quantumchemistry.Molecule(nh3_moldata_R, basis)\n",
    "    \n",
    "    PES_configs.append(nh3_R)\n"
   ]
  },
  {
   "cell_type": "markdown",
   "metadata": {},
   "source": [
    "# Compute FCI PES"
   ]
  },
  {
   "cell_type": "code",
   "execution_count": 3,
   "metadata": {
    "scrolled": true
   },
   "outputs": [
    {
     "name": "stdout",
     "output_type": "stream",
     "text": [
      "R = 0.5 | E = -52.44294693856378 Eh\n",
      "R = 0.7 | E = -54.836917757372525 Eh\n",
      "R = 0.9 | E = -55.44295420442609 Eh\n",
      "R = 1.1 | E = -55.520372538271445 Eh\n",
      "R = 1.3 | E = -55.43891986163804 Eh\n",
      "R = 1.5 | E = -55.329407824987236 Eh\n",
      "R = 1.7 | E = -55.238353570818575 Eh\n",
      "R = 1.9 | E = -55.177779108285904 Eh\n",
      "R = 2.1 | E = -55.14546825875257 Eh\n"
     ]
    }
   ],
   "source": [
    "FCI_energies = []\n",
    "\n",
    "for R_i in range(len(geometries)):\n",
    "    \n",
    "    fci_result = PES_configs[R_i].compute_energy(method='fci')\n",
    "    print(\"R = {} | E = {} Eh\".format(round(geometries[R_i],2), fci_result))\n",
    "    \n",
    "    FCI_energies.append(fci_result)\n"
   ]
  },
  {
   "cell_type": "markdown",
   "metadata": {},
   "source": [
    "# Compute HF PES"
   ]
  },
  {
   "cell_type": "code",
   "execution_count": 4,
   "metadata": {},
   "outputs": [
    {
     "name": "stdout",
     "output_type": "stream",
     "text": [
      "R = 0.5 | E = -52.42388235247115 Eh\n",
      "R = 0.7 | E = -54.805156004886314 Eh\n",
      "R = 0.9 | E = -55.39249807108334 Eh\n",
      "R = 1.1 | E = -55.441550716848646 Eh\n",
      "R = 1.3 | E = -55.31601299924375 Eh\n",
      "R = 1.5 | E = -55.140637594749066 Eh\n",
      "R = 1.7 | E = -54.961086396289836 Eh\n",
      "R = 1.9 | E = -54.7945462944081 Eh\n",
      "R = 2.1 | E = -54.65066541288485 Eh\n"
     ]
    }
   ],
   "source": [
    "HF_energies = []\n",
    "\n",
    "for R_i in range(len(geometries)):\n",
    "    \n",
    "    hf_result = PES_configs[R_i].compute_energy(method='hf')\n",
    "    print(\"R = {} | E = {} Eh\".format(round(geometries[R_i],2), hf_result))\n",
    "    \n",
    "    HF_energies.append(hf_result)\n"
   ]
  },
  {
   "cell_type": "markdown",
   "metadata": {},
   "source": [
    "# Compute CCSD PES"
   ]
  },
  {
   "cell_type": "code",
   "execution_count": 9,
   "metadata": {},
   "outputs": [
    {
     "name": "stdout",
     "output_type": "stream",
     "text": [
      "R = 0.5 | E = -52.44291428982974 Eh\n",
      "R = 0.7 | E = -54.83686549565489 Eh\n",
      "R = 0.9 | E = -55.442836405289164 Eh\n",
      "R = 1.1 | E = -55.52001524855134 Eh\n",
      "R = 1.3 | E = -55.43791960375229 Eh\n",
      "R = 1.5 | E = -55.327446129300164 Eh\n",
      "R = 1.7 | E = -55.23782673806206 Eh\n",
      "R = 1.9 | E = -55.20086851348494 Eh\n",
      "R = 2.1 | E = -55.23050458338292 Eh\n"
     ]
    }
   ],
   "source": [
    "CCSD_energies = []\n",
    "\n",
    "for R_i in range(len(geometries)):\n",
    "    \n",
    "    ccsd_result = PES_configs[R_i].compute_energy(method='ccsd')\n",
    "    print(\"R = {} | E = {} Eh\".format(round(geometries[R_i],2), ccsd_result))\n",
    "    CCSD_energies.append(ccsd_result)\n",
    "    \n",
    "    "
   ]
  },
  {
   "cell_type": "code",
   "execution_count": 10,
   "metadata": {},
   "outputs": [
    {
     "data": {
      "text/plain": [
       "Text(0, 0.5, 'E, Hartree')"
      ]
     },
     "execution_count": 10,
     "metadata": {},
     "output_type": "execute_result"
    },
    {
     "data": {
      "image/png": "[encoded data removed]",
      "text/plain": [
       "<Figure size 432x288 with 1 Axes>"
      ]
     },
     "metadata": {
      "needs_background": "light"
     },
     "output_type": "display_data"
    }
   ],
   "source": [
    "plt.title('NH3 symmetric dissociation, STO-3G')\n",
    "plt.plot(geometries, FCI_energies, label='FCI')\n",
    "plt.plot(geometries, HF_energies, label='HF')\n",
    "plt.plot(geometries, CCSD_energies, label='CCSD')\n",
    "plt.legend()\n",
    "plt.ylim(top=-54.5)\n",
    "plt.xlabel('R, Angstrom')\n",
    "plt.ylabel('E, Hartree')"
   ]
  },
  {
   "cell_type": "code",
   "execution_count": null,
   "metadata": {},
   "outputs": [],
   "source": []
  }
 ],
 "metadata": {
  "kernelspec": {
   "display_name": "tequila_env_kernel",
   "language": "python",
   "name": "tequila_env_kernel"
  },
  "language_info": {
   "codemirror_mode": {
    "name": "ipython",
    "version": 3
   },
   "file_extension": ".py",
   "mimetype": "text/x-python",
   "name": "python",
   "nbconvert_exporter": "python",
   "pygments_lexer": "ipython3",
   "version": "3.6.9"
  }
 },
 "nbformat": 4,
 "nbformat_minor": 2
}
